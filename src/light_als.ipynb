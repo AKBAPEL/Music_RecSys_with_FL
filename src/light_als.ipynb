{
  "nbformat": 4,
  "nbformat_minor": 0,
  "metadata": {
    "colab": {
      "provenance": []
    },
    "kernelspec": {
      "name": "python3",
      "display_name": "Python 3"
    },
    "language_info": {
      "name": "python"
    },
    "widgets": {
      "application/vnd.jupyter.widget-state+json": {
        "89a94120d0964482995cedccea30d48a": {
          "model_module": "@jupyter-widgets/controls",
          "model_name": "HBoxModel",
          "model_module_version": "1.5.0",
          "state": {
            "_dom_classes": [],
            "_model_module": "@jupyter-widgets/controls",
            "_model_module_version": "1.5.0",
            "_model_name": "HBoxModel",
            "_view_count": null,
            "_view_module": "@jupyter-widgets/controls",
            "_view_module_version": "1.5.0",
            "_view_name": "HBoxView",
            "box_style": "",
            "children": [
              "IPY_MODEL_f2e8a8a2ed324040a7f309cdc0d3c1f6",
              "IPY_MODEL_bf69adc3fdb4459cb9d7a4b356ccccec",
              "IPY_MODEL_059c5ace7c714dc5bcfe35db29657ae5"
            ],
            "layout": "IPY_MODEL_40b2a7bc17454a1da15a85b4b9c94cac"
          }
        },
        "f2e8a8a2ed324040a7f309cdc0d3c1f6": {
          "model_module": "@jupyter-widgets/controls",
          "model_name": "HTMLModel",
          "model_module_version": "1.5.0",
          "state": {
            "_dom_classes": [],
            "_model_module": "@jupyter-widgets/controls",
            "_model_module_version": "1.5.0",
            "_model_name": "HTMLModel",
            "_view_count": null,
            "_view_module": "@jupyter-widgets/controls",
            "_view_module_version": "1.5.0",
            "_view_name": "HTMLView",
            "description": "",
            "description_tooltip": null,
            "layout": "IPY_MODEL_b1ac96854ef0451b9e011454fbae5157",
            "placeholder": "​",
            "style": "IPY_MODEL_d2051e979973434ab7e3df549a6c44bc",
            "value": "100%"
          }
        },
        "bf69adc3fdb4459cb9d7a4b356ccccec": {
          "model_module": "@jupyter-widgets/controls",
          "model_name": "FloatProgressModel",
          "model_module_version": "1.5.0",
          "state": {
            "_dom_classes": [],
            "_model_module": "@jupyter-widgets/controls",
            "_model_module_version": "1.5.0",
            "_model_name": "FloatProgressModel",
            "_view_count": null,
            "_view_module": "@jupyter-widgets/controls",
            "_view_module_version": "1.5.0",
            "_view_name": "ProgressView",
            "bar_style": "success",
            "description": "",
            "description_tooltip": null,
            "layout": "IPY_MODEL_09edbfed93774a5790b633a469637b7d",
            "max": 15,
            "min": 0,
            "orientation": "horizontal",
            "style": "IPY_MODEL_e704c31f7a8e40598065c65fd5eec703",
            "value": 15
          }
        },
        "059c5ace7c714dc5bcfe35db29657ae5": {
          "model_module": "@jupyter-widgets/controls",
          "model_name": "HTMLModel",
          "model_module_version": "1.5.0",
          "state": {
            "_dom_classes": [],
            "_model_module": "@jupyter-widgets/controls",
            "_model_module_version": "1.5.0",
            "_model_name": "HTMLModel",
            "_view_count": null,
            "_view_module": "@jupyter-widgets/controls",
            "_view_module_version": "1.5.0",
            "_view_name": "HTMLView",
            "description": "",
            "description_tooltip": null,
            "layout": "IPY_MODEL_72908e9a9c7b412093fc1fa4d6f2bb52",
            "placeholder": "​",
            "style": "IPY_MODEL_c1cf30bea3384683816bc23df2328275",
            "value": " 15/15 [00:19&lt;00:00,  1.20s/it]"
          }
        },
        "40b2a7bc17454a1da15a85b4b9c94cac": {
          "model_module": "@jupyter-widgets/base",
          "model_name": "LayoutModel",
          "model_module_version": "1.2.0",
          "state": {
            "_model_module": "@jupyter-widgets/base",
            "_model_module_version": "1.2.0",
            "_model_name": "LayoutModel",
            "_view_count": null,
            "_view_module": "@jupyter-widgets/base",
            "_view_module_version": "1.2.0",
            "_view_name": "LayoutView",
            "align_content": null,
            "align_items": null,
            "align_self": null,
            "border": null,
            "bottom": null,
            "display": null,
            "flex": null,
            "flex_flow": null,
            "grid_area": null,
            "grid_auto_columns": null,
            "grid_auto_flow": null,
            "grid_auto_rows": null,
            "grid_column": null,
            "grid_gap": null,
            "grid_row": null,
            "grid_template_areas": null,
            "grid_template_columns": null,
            "grid_template_rows": null,
            "height": null,
            "justify_content": null,
            "justify_items": null,
            "left": null,
            "margin": null,
            "max_height": null,
            "max_width": null,
            "min_height": null,
            "min_width": null,
            "object_fit": null,
            "object_position": null,
            "order": null,
            "overflow": null,
            "overflow_x": null,
            "overflow_y": null,
            "padding": null,
            "right": null,
            "top": null,
            "visibility": null,
            "width": null
          }
        },
        "b1ac96854ef0451b9e011454fbae5157": {
          "model_module": "@jupyter-widgets/base",
          "model_name": "LayoutModel",
          "model_module_version": "1.2.0",
          "state": {
            "_model_module": "@jupyter-widgets/base",
            "_model_module_version": "1.2.0",
            "_model_name": "LayoutModel",
            "_view_count": null,
            "_view_module": "@jupyter-widgets/base",
            "_view_module_version": "1.2.0",
            "_view_name": "LayoutView",
            "align_content": null,
            "align_items": null,
            "align_self": null,
            "border": null,
            "bottom": null,
            "display": null,
            "flex": null,
            "flex_flow": null,
            "grid_area": null,
            "grid_auto_columns": null,
            "grid_auto_flow": null,
            "grid_auto_rows": null,
            "grid_column": null,
            "grid_gap": null,
            "grid_row": null,
            "grid_template_areas": null,
            "grid_template_columns": null,
            "grid_template_rows": null,
            "height": null,
            "justify_content": null,
            "justify_items": null,
            "left": null,
            "margin": null,
            "max_height": null,
            "max_width": null,
            "min_height": null,
            "min_width": null,
            "object_fit": null,
            "object_position": null,
            "order": null,
            "overflow": null,
            "overflow_x": null,
            "overflow_y": null,
            "padding": null,
            "right": null,
            "top": null,
            "visibility": null,
            "width": null
          }
        },
        "d2051e979973434ab7e3df549a6c44bc": {
          "model_module": "@jupyter-widgets/controls",
          "model_name": "DescriptionStyleModel",
          "model_module_version": "1.5.0",
          "state": {
            "_model_module": "@jupyter-widgets/controls",
            "_model_module_version": "1.5.0",
            "_model_name": "DescriptionStyleModel",
            "_view_count": null,
            "_view_module": "@jupyter-widgets/base",
            "_view_module_version": "1.2.0",
            "_view_name": "StyleView",
            "description_width": ""
          }
        },
        "09edbfed93774a5790b633a469637b7d": {
          "model_module": "@jupyter-widgets/base",
          "model_name": "LayoutModel",
          "model_module_version": "1.2.0",
          "state": {
            "_model_module": "@jupyter-widgets/base",
            "_model_module_version": "1.2.0",
            "_model_name": "LayoutModel",
            "_view_count": null,
            "_view_module": "@jupyter-widgets/base",
            "_view_module_version": "1.2.0",
            "_view_name": "LayoutView",
            "align_content": null,
            "align_items": null,
            "align_self": null,
            "border": null,
            "bottom": null,
            "display": null,
            "flex": null,
            "flex_flow": null,
            "grid_area": null,
            "grid_auto_columns": null,
            "grid_auto_flow": null,
            "grid_auto_rows": null,
            "grid_column": null,
            "grid_gap": null,
            "grid_row": null,
            "grid_template_areas": null,
            "grid_template_columns": null,
            "grid_template_rows": null,
            "height": null,
            "justify_content": null,
            "justify_items": null,
            "left": null,
            "margin": null,
            "max_height": null,
            "max_width": null,
            "min_height": null,
            "min_width": null,
            "object_fit": null,
            "object_position": null,
            "order": null,
            "overflow": null,
            "overflow_x": null,
            "overflow_y": null,
            "padding": null,
            "right": null,
            "top": null,
            "visibility": null,
            "width": null
          }
        },
        "e704c31f7a8e40598065c65fd5eec703": {
          "model_module": "@jupyter-widgets/controls",
          "model_name": "ProgressStyleModel",
          "model_module_version": "1.5.0",
          "state": {
            "_model_module": "@jupyter-widgets/controls",
            "_model_module_version": "1.5.0",
            "_model_name": "ProgressStyleModel",
            "_view_count": null,
            "_view_module": "@jupyter-widgets/base",
            "_view_module_version": "1.2.0",
            "_view_name": "StyleView",
            "bar_color": null,
            "description_width": ""
          }
        },
        "72908e9a9c7b412093fc1fa4d6f2bb52": {
          "model_module": "@jupyter-widgets/base",
          "model_name": "LayoutModel",
          "model_module_version": "1.2.0",
          "state": {
            "_model_module": "@jupyter-widgets/base",
            "_model_module_version": "1.2.0",
            "_model_name": "LayoutModel",
            "_view_count": null,
            "_view_module": "@jupyter-widgets/base",
            "_view_module_version": "1.2.0",
            "_view_name": "LayoutView",
            "align_content": null,
            "align_items": null,
            "align_self": null,
            "border": null,
            "bottom": null,
            "display": null,
            "flex": null,
            "flex_flow": null,
            "grid_area": null,
            "grid_auto_columns": null,
            "grid_auto_flow": null,
            "grid_auto_rows": null,
            "grid_column": null,
            "grid_gap": null,
            "grid_row": null,
            "grid_template_areas": null,
            "grid_template_columns": null,
            "grid_template_rows": null,
            "height": null,
            "justify_content": null,
            "justify_items": null,
            "left": null,
            "margin": null,
            "max_height": null,
            "max_width": null,
            "min_height": null,
            "min_width": null,
            "object_fit": null,
            "object_position": null,
            "order": null,
            "overflow": null,
            "overflow_x": null,
            "overflow_y": null,
            "padding": null,
            "right": null,
            "top": null,
            "visibility": null,
            "width": null
          }
        },
        "c1cf30bea3384683816bc23df2328275": {
          "model_module": "@jupyter-widgets/controls",
          "model_name": "DescriptionStyleModel",
          "model_module_version": "1.5.0",
          "state": {
            "_model_module": "@jupyter-widgets/controls",
            "_model_module_version": "1.5.0",
            "_model_name": "DescriptionStyleModel",
            "_view_count": null,
            "_view_module": "@jupyter-widgets/base",
            "_view_module_version": "1.2.0",
            "_view_name": "StyleView",
            "description_width": ""
          }
        },
        "13e47dcdca8347078e12685815226ce0": {
          "model_module": "@jupyter-widgets/controls",
          "model_name": "HBoxModel",
          "model_module_version": "1.5.0",
          "state": {
            "_dom_classes": [],
            "_model_module": "@jupyter-widgets/controls",
            "_model_module_version": "1.5.0",
            "_model_name": "HBoxModel",
            "_view_count": null,
            "_view_module": "@jupyter-widgets/controls",
            "_view_module_version": "1.5.0",
            "_view_name": "HBoxView",
            "box_style": "",
            "children": [
              "IPY_MODEL_f711ff5d33f04ab8ac9f4bb02c4bd5e0",
              "IPY_MODEL_2d8a8d6447104fd5a12c59bc1b37e03d",
              "IPY_MODEL_266ae1821a6f43a1a64d92a943fda6ef"
            ],
            "layout": "IPY_MODEL_ecd8a2f3a4f349ffa04bd6adb5fde9d0"
          }
        },
        "f711ff5d33f04ab8ac9f4bb02c4bd5e0": {
          "model_module": "@jupyter-widgets/controls",
          "model_name": "HTMLModel",
          "model_module_version": "1.5.0",
          "state": {
            "_dom_classes": [],
            "_model_module": "@jupyter-widgets/controls",
            "_model_module_version": "1.5.0",
            "_model_name": "HTMLModel",
            "_view_count": null,
            "_view_module": "@jupyter-widgets/controls",
            "_view_module_version": "1.5.0",
            "_view_name": "HTMLView",
            "description": "",
            "description_tooltip": null,
            "layout": "IPY_MODEL_05f02328f6414f4cbd3ec04876bb7a01",
            "placeholder": "​",
            "style": "IPY_MODEL_bfd25138d9274ccbbaad61f50afe21f5",
            "value": "100%"
          }
        },
        "2d8a8d6447104fd5a12c59bc1b37e03d": {
          "model_module": "@jupyter-widgets/controls",
          "model_name": "FloatProgressModel",
          "model_module_version": "1.5.0",
          "state": {
            "_dom_classes": [],
            "_model_module": "@jupyter-widgets/controls",
            "_model_module_version": "1.5.0",
            "_model_name": "FloatProgressModel",
            "_view_count": null,
            "_view_module": "@jupyter-widgets/controls",
            "_view_module_version": "1.5.0",
            "_view_name": "ProgressView",
            "bar_style": "success",
            "description": "",
            "description_tooltip": null,
            "layout": "IPY_MODEL_ff44c6d326c94549bd16d70317603991",
            "max": 15,
            "min": 0,
            "orientation": "horizontal",
            "style": "IPY_MODEL_3508b90b617348edb744de76032bafd2",
            "value": 15
          }
        },
        "266ae1821a6f43a1a64d92a943fda6ef": {
          "model_module": "@jupyter-widgets/controls",
          "model_name": "HTMLModel",
          "model_module_version": "1.5.0",
          "state": {
            "_dom_classes": [],
            "_model_module": "@jupyter-widgets/controls",
            "_model_module_version": "1.5.0",
            "_model_name": "HTMLModel",
            "_view_count": null,
            "_view_module": "@jupyter-widgets/controls",
            "_view_module_version": "1.5.0",
            "_view_name": "HTMLView",
            "description": "",
            "description_tooltip": null,
            "layout": "IPY_MODEL_41f6c53aa6b0428c8bf3983907f0b90c",
            "placeholder": "​",
            "style": "IPY_MODEL_7c8a4af1e95441d2a1c149926eaa1e20",
            "value": " 15/15 [00:15&lt;00:00,  1.11it/s]"
          }
        },
        "ecd8a2f3a4f349ffa04bd6adb5fde9d0": {
          "model_module": "@jupyter-widgets/base",
          "model_name": "LayoutModel",
          "model_module_version": "1.2.0",
          "state": {
            "_model_module": "@jupyter-widgets/base",
            "_model_module_version": "1.2.0",
            "_model_name": "LayoutModel",
            "_view_count": null,
            "_view_module": "@jupyter-widgets/base",
            "_view_module_version": "1.2.0",
            "_view_name": "LayoutView",
            "align_content": null,
            "align_items": null,
            "align_self": null,
            "border": null,
            "bottom": null,
            "display": null,
            "flex": null,
            "flex_flow": null,
            "grid_area": null,
            "grid_auto_columns": null,
            "grid_auto_flow": null,
            "grid_auto_rows": null,
            "grid_column": null,
            "grid_gap": null,
            "grid_row": null,
            "grid_template_areas": null,
            "grid_template_columns": null,
            "grid_template_rows": null,
            "height": null,
            "justify_content": null,
            "justify_items": null,
            "left": null,
            "margin": null,
            "max_height": null,
            "max_width": null,
            "min_height": null,
            "min_width": null,
            "object_fit": null,
            "object_position": null,
            "order": null,
            "overflow": null,
            "overflow_x": null,
            "overflow_y": null,
            "padding": null,
            "right": null,
            "top": null,
            "visibility": null,
            "width": null
          }
        },
        "05f02328f6414f4cbd3ec04876bb7a01": {
          "model_module": "@jupyter-widgets/base",
          "model_name": "LayoutModel",
          "model_module_version": "1.2.0",
          "state": {
            "_model_module": "@jupyter-widgets/base",
            "_model_module_version": "1.2.0",
            "_model_name": "LayoutModel",
            "_view_count": null,
            "_view_module": "@jupyter-widgets/base",
            "_view_module_version": "1.2.0",
            "_view_name": "LayoutView",
            "align_content": null,
            "align_items": null,
            "align_self": null,
            "border": null,
            "bottom": null,
            "display": null,
            "flex": null,
            "flex_flow": null,
            "grid_area": null,
            "grid_auto_columns": null,
            "grid_auto_flow": null,
            "grid_auto_rows": null,
            "grid_column": null,
            "grid_gap": null,
            "grid_row": null,
            "grid_template_areas": null,
            "grid_template_columns": null,
            "grid_template_rows": null,
            "height": null,
            "justify_content": null,
            "justify_items": null,
            "left": null,
            "margin": null,
            "max_height": null,
            "max_width": null,
            "min_height": null,
            "min_width": null,
            "object_fit": null,
            "object_position": null,
            "order": null,
            "overflow": null,
            "overflow_x": null,
            "overflow_y": null,
            "padding": null,
            "right": null,
            "top": null,
            "visibility": null,
            "width": null
          }
        },
        "bfd25138d9274ccbbaad61f50afe21f5": {
          "model_module": "@jupyter-widgets/controls",
          "model_name": "DescriptionStyleModel",
          "model_module_version": "1.5.0",
          "state": {
            "_model_module": "@jupyter-widgets/controls",
            "_model_module_version": "1.5.0",
            "_model_name": "DescriptionStyleModel",
            "_view_count": null,
            "_view_module": "@jupyter-widgets/base",
            "_view_module_version": "1.2.0",
            "_view_name": "StyleView",
            "description_width": ""
          }
        },
        "ff44c6d326c94549bd16d70317603991": {
          "model_module": "@jupyter-widgets/base",
          "model_name": "LayoutModel",
          "model_module_version": "1.2.0",
          "state": {
            "_model_module": "@jupyter-widgets/base",
            "_model_module_version": "1.2.0",
            "_model_name": "LayoutModel",
            "_view_count": null,
            "_view_module": "@jupyter-widgets/base",
            "_view_module_version": "1.2.0",
            "_view_name": "LayoutView",
            "align_content": null,
            "align_items": null,
            "align_self": null,
            "border": null,
            "bottom": null,
            "display": null,
            "flex": null,
            "flex_flow": null,
            "grid_area": null,
            "grid_auto_columns": null,
            "grid_auto_flow": null,
            "grid_auto_rows": null,
            "grid_column": null,
            "grid_gap": null,
            "grid_row": null,
            "grid_template_areas": null,
            "grid_template_columns": null,
            "grid_template_rows": null,
            "height": null,
            "justify_content": null,
            "justify_items": null,
            "left": null,
            "margin": null,
            "max_height": null,
            "max_width": null,
            "min_height": null,
            "min_width": null,
            "object_fit": null,
            "object_position": null,
            "order": null,
            "overflow": null,
            "overflow_x": null,
            "overflow_y": null,
            "padding": null,
            "right": null,
            "top": null,
            "visibility": null,
            "width": null
          }
        },
        "3508b90b617348edb744de76032bafd2": {
          "model_module": "@jupyter-widgets/controls",
          "model_name": "ProgressStyleModel",
          "model_module_version": "1.5.0",
          "state": {
            "_model_module": "@jupyter-widgets/controls",
            "_model_module_version": "1.5.0",
            "_model_name": "ProgressStyleModel",
            "_view_count": null,
            "_view_module": "@jupyter-widgets/base",
            "_view_module_version": "1.2.0",
            "_view_name": "StyleView",
            "bar_color": null,
            "description_width": ""
          }
        },
        "41f6c53aa6b0428c8bf3983907f0b90c": {
          "model_module": "@jupyter-widgets/base",
          "model_name": "LayoutModel",
          "model_module_version": "1.2.0",
          "state": {
            "_model_module": "@jupyter-widgets/base",
            "_model_module_version": "1.2.0",
            "_model_name": "LayoutModel",
            "_view_count": null,
            "_view_module": "@jupyter-widgets/base",
            "_view_module_version": "1.2.0",
            "_view_name": "LayoutView",
            "align_content": null,
            "align_items": null,
            "align_self": null,
            "border": null,
            "bottom": null,
            "display": null,
            "flex": null,
            "flex_flow": null,
            "grid_area": null,
            "grid_auto_columns": null,
            "grid_auto_flow": null,
            "grid_auto_rows": null,
            "grid_column": null,
            "grid_gap": null,
            "grid_row": null,
            "grid_template_areas": null,
            "grid_template_columns": null,
            "grid_template_rows": null,
            "height": null,
            "justify_content": null,
            "justify_items": null,
            "left": null,
            "margin": null,
            "max_height": null,
            "max_width": null,
            "min_height": null,
            "min_width": null,
            "object_fit": null,
            "object_position": null,
            "order": null,
            "overflow": null,
            "overflow_x": null,
            "overflow_y": null,
            "padding": null,
            "right": null,
            "top": null,
            "visibility": null,
            "width": null
          }
        },
        "7c8a4af1e95441d2a1c149926eaa1e20": {
          "model_module": "@jupyter-widgets/controls",
          "model_name": "DescriptionStyleModel",
          "model_module_version": "1.5.0",
          "state": {
            "_model_module": "@jupyter-widgets/controls",
            "_model_module_version": "1.5.0",
            "_model_name": "DescriptionStyleModel",
            "_view_count": null,
            "_view_module": "@jupyter-widgets/base",
            "_view_module_version": "1.2.0",
            "_view_name": "StyleView",
            "description_width": ""
          }
        },
        "d1bdf64978cd4c5780bc1945619499d2": {
          "model_module": "@jupyter-widgets/controls",
          "model_name": "HBoxModel",
          "model_module_version": "1.5.0",
          "state": {
            "_dom_classes": [],
            "_model_module": "@jupyter-widgets/controls",
            "_model_module_version": "1.5.0",
            "_model_name": "HBoxModel",
            "_view_count": null,
            "_view_module": "@jupyter-widgets/controls",
            "_view_module_version": "1.5.0",
            "_view_name": "HBoxView",
            "box_style": "",
            "children": [
              "IPY_MODEL_a6ca487d125840ca8f8c84f81b7139b7",
              "IPY_MODEL_3eadf0f345ee4349b641fc2293b7d8a9",
              "IPY_MODEL_189b6e415d814750b28be002f3e608a9"
            ],
            "layout": "IPY_MODEL_b5cdbe7e20c94788b2cae63caea1c7ee"
          }
        },
        "a6ca487d125840ca8f8c84f81b7139b7": {
          "model_module": "@jupyter-widgets/controls",
          "model_name": "HTMLModel",
          "model_module_version": "1.5.0",
          "state": {
            "_dom_classes": [],
            "_model_module": "@jupyter-widgets/controls",
            "_model_module_version": "1.5.0",
            "_model_name": "HTMLModel",
            "_view_count": null,
            "_view_module": "@jupyter-widgets/controls",
            "_view_module_version": "1.5.0",
            "_view_name": "HTMLView",
            "description": "",
            "description_tooltip": null,
            "layout": "IPY_MODEL_486dd82c58184645bea715f53c708c34",
            "placeholder": "​",
            "style": "IPY_MODEL_e6ac3c3e45134eddba5729481806a80a",
            "value": "100%"
          }
        },
        "3eadf0f345ee4349b641fc2293b7d8a9": {
          "model_module": "@jupyter-widgets/controls",
          "model_name": "FloatProgressModel",
          "model_module_version": "1.5.0",
          "state": {
            "_dom_classes": [],
            "_model_module": "@jupyter-widgets/controls",
            "_model_module_version": "1.5.0",
            "_model_name": "FloatProgressModel",
            "_view_count": null,
            "_view_module": "@jupyter-widgets/controls",
            "_view_module_version": "1.5.0",
            "_view_name": "ProgressView",
            "bar_style": "success",
            "description": "",
            "description_tooltip": null,
            "layout": "IPY_MODEL_d59ed75762884aeb8e8dd095c77af21f",
            "max": 15,
            "min": 0,
            "orientation": "horizontal",
            "style": "IPY_MODEL_5bc27d3e14354904a64d125ebc30b157",
            "value": 15
          }
        },
        "189b6e415d814750b28be002f3e608a9": {
          "model_module": "@jupyter-widgets/controls",
          "model_name": "HTMLModel",
          "model_module_version": "1.5.0",
          "state": {
            "_dom_classes": [],
            "_model_module": "@jupyter-widgets/controls",
            "_model_module_version": "1.5.0",
            "_model_name": "HTMLModel",
            "_view_count": null,
            "_view_module": "@jupyter-widgets/controls",
            "_view_module_version": "1.5.0",
            "_view_name": "HTMLView",
            "description": "",
            "description_tooltip": null,
            "layout": "IPY_MODEL_01ba28e396084ce68b09e47f1a158e0a",
            "placeholder": "​",
            "style": "IPY_MODEL_df26d9c9695548ec9806352ca7780485",
            "value": " 15/15 [00:16&lt;00:00,  1.09it/s]"
          }
        },
        "b5cdbe7e20c94788b2cae63caea1c7ee": {
          "model_module": "@jupyter-widgets/base",
          "model_name": "LayoutModel",
          "model_module_version": "1.2.0",
          "state": {
            "_model_module": "@jupyter-widgets/base",
            "_model_module_version": "1.2.0",
            "_model_name": "LayoutModel",
            "_view_count": null,
            "_view_module": "@jupyter-widgets/base",
            "_view_module_version": "1.2.0",
            "_view_name": "LayoutView",
            "align_content": null,
            "align_items": null,
            "align_self": null,
            "border": null,
            "bottom": null,
            "display": null,
            "flex": null,
            "flex_flow": null,
            "grid_area": null,
            "grid_auto_columns": null,
            "grid_auto_flow": null,
            "grid_auto_rows": null,
            "grid_column": null,
            "grid_gap": null,
            "grid_row": null,
            "grid_template_areas": null,
            "grid_template_columns": null,
            "grid_template_rows": null,
            "height": null,
            "justify_content": null,
            "justify_items": null,
            "left": null,
            "margin": null,
            "max_height": null,
            "max_width": null,
            "min_height": null,
            "min_width": null,
            "object_fit": null,
            "object_position": null,
            "order": null,
            "overflow": null,
            "overflow_x": null,
            "overflow_y": null,
            "padding": null,
            "right": null,
            "top": null,
            "visibility": null,
            "width": null
          }
        },
        "486dd82c58184645bea715f53c708c34": {
          "model_module": "@jupyter-widgets/base",
          "model_name": "LayoutModel",
          "model_module_version": "1.2.0",
          "state": {
            "_model_module": "@jupyter-widgets/base",
            "_model_module_version": "1.2.0",
            "_model_name": "LayoutModel",
            "_view_count": null,
            "_view_module": "@jupyter-widgets/base",
            "_view_module_version": "1.2.0",
            "_view_name": "LayoutView",
            "align_content": null,
            "align_items": null,
            "align_self": null,
            "border": null,
            "bottom": null,
            "display": null,
            "flex": null,
            "flex_flow": null,
            "grid_area": null,
            "grid_auto_columns": null,
            "grid_auto_flow": null,
            "grid_auto_rows": null,
            "grid_column": null,
            "grid_gap": null,
            "grid_row": null,
            "grid_template_areas": null,
            "grid_template_columns": null,
            "grid_template_rows": null,
            "height": null,
            "justify_content": null,
            "justify_items": null,
            "left": null,
            "margin": null,
            "max_height": null,
            "max_width": null,
            "min_height": null,
            "min_width": null,
            "object_fit": null,
            "object_position": null,
            "order": null,
            "overflow": null,
            "overflow_x": null,
            "overflow_y": null,
            "padding": null,
            "right": null,
            "top": null,
            "visibility": null,
            "width": null
          }
        },
        "e6ac3c3e45134eddba5729481806a80a": {
          "model_module": "@jupyter-widgets/controls",
          "model_name": "DescriptionStyleModel",
          "model_module_version": "1.5.0",
          "state": {
            "_model_module": "@jupyter-widgets/controls",
            "_model_module_version": "1.5.0",
            "_model_name": "DescriptionStyleModel",
            "_view_count": null,
            "_view_module": "@jupyter-widgets/base",
            "_view_module_version": "1.2.0",
            "_view_name": "StyleView",
            "description_width": ""
          }
        },
        "d59ed75762884aeb8e8dd095c77af21f": {
          "model_module": "@jupyter-widgets/base",
          "model_name": "LayoutModel",
          "model_module_version": "1.2.0",
          "state": {
            "_model_module": "@jupyter-widgets/base",
            "_model_module_version": "1.2.0",
            "_model_name": "LayoutModel",
            "_view_count": null,
            "_view_module": "@jupyter-widgets/base",
            "_view_module_version": "1.2.0",
            "_view_name": "LayoutView",
            "align_content": null,
            "align_items": null,
            "align_self": null,
            "border": null,
            "bottom": null,
            "display": null,
            "flex": null,
            "flex_flow": null,
            "grid_area": null,
            "grid_auto_columns": null,
            "grid_auto_flow": null,
            "grid_auto_rows": null,
            "grid_column": null,
            "grid_gap": null,
            "grid_row": null,
            "grid_template_areas": null,
            "grid_template_columns": null,
            "grid_template_rows": null,
            "height": null,
            "justify_content": null,
            "justify_items": null,
            "left": null,
            "margin": null,
            "max_height": null,
            "max_width": null,
            "min_height": null,
            "min_width": null,
            "object_fit": null,
            "object_position": null,
            "order": null,
            "overflow": null,
            "overflow_x": null,
            "overflow_y": null,
            "padding": null,
            "right": null,
            "top": null,
            "visibility": null,
            "width": null
          }
        },
        "5bc27d3e14354904a64d125ebc30b157": {
          "model_module": "@jupyter-widgets/controls",
          "model_name": "ProgressStyleModel",
          "model_module_version": "1.5.0",
          "state": {
            "_model_module": "@jupyter-widgets/controls",
            "_model_module_version": "1.5.0",
            "_model_name": "ProgressStyleModel",
            "_view_count": null,
            "_view_module": "@jupyter-widgets/base",
            "_view_module_version": "1.2.0",
            "_view_name": "StyleView",
            "bar_color": null,
            "description_width": ""
          }
        },
        "01ba28e396084ce68b09e47f1a158e0a": {
          "model_module": "@jupyter-widgets/base",
          "model_name": "LayoutModel",
          "model_module_version": "1.2.0",
          "state": {
            "_model_module": "@jupyter-widgets/base",
            "_model_module_version": "1.2.0",
            "_model_name": "LayoutModel",
            "_view_count": null,
            "_view_module": "@jupyter-widgets/base",
            "_view_module_version": "1.2.0",
            "_view_name": "LayoutView",
            "align_content": null,
            "align_items": null,
            "align_self": null,
            "border": null,
            "bottom": null,
            "display": null,
            "flex": null,
            "flex_flow": null,
            "grid_area": null,
            "grid_auto_columns": null,
            "grid_auto_flow": null,
            "grid_auto_rows": null,
            "grid_column": null,
            "grid_gap": null,
            "grid_row": null,
            "grid_template_areas": null,
            "grid_template_columns": null,
            "grid_template_rows": null,
            "height": null,
            "justify_content": null,
            "justify_items": null,
            "left": null,
            "margin": null,
            "max_height": null,
            "max_width": null,
            "min_height": null,
            "min_width": null,
            "object_fit": null,
            "object_position": null,
            "order": null,
            "overflow": null,
            "overflow_x": null,
            "overflow_y": null,
            "padding": null,
            "right": null,
            "top": null,
            "visibility": null,
            "width": null
          }
        },
        "df26d9c9695548ec9806352ca7780485": {
          "model_module": "@jupyter-widgets/controls",
          "model_name": "DescriptionStyleModel",
          "model_module_version": "1.5.0",
          "state": {
            "_model_module": "@jupyter-widgets/controls",
            "_model_module_version": "1.5.0",
            "_model_name": "DescriptionStyleModel",
            "_view_count": null,
            "_view_module": "@jupyter-widgets/base",
            "_view_module_version": "1.2.0",
            "_view_name": "StyleView",
            "description_width": ""
          }
        }
      }
    }
  },
  "cells": [
    {
      "cell_type": "code",
      "execution_count": 46,
      "metadata": {
        "colab": {
          "base_uri": "https://localhost:8080/"
        },
        "id": "4rpuqa7NYGbf",
        "outputId": "52acb3a9-5635-443a-8275-32ef3ad65731"
      },
      "outputs": [
        {
          "output_type": "stream",
          "name": "stdout",
          "text": [
            "Requirement already satisfied: implicit in /usr/local/lib/python3.11/dist-packages (0.7.2)\n",
            "Requirement already satisfied: numpy>=1.17.0 in /usr/local/lib/python3.11/dist-packages (from implicit) (2.0.2)\n",
            "Requirement already satisfied: scipy>=0.16 in /usr/local/lib/python3.11/dist-packages (from implicit) (1.15.3)\n",
            "Requirement already satisfied: tqdm>=4.27 in /usr/local/lib/python3.11/dist-packages (from implicit) (4.67.1)\n",
            "Requirement already satisfied: threadpoolctl in /usr/local/lib/python3.11/dist-packages (from implicit) (3.6.0)\n"
          ]
        }
      ],
      "source": [
        "!pip install implicit"
      ]
    },
    {
      "cell_type": "code",
      "source": [
        "from implicit.als import AlternatingLeastSquares\n",
        "from sklearn.preprocessing import LabelEncoder\n",
        "from scipy.sparse import csr_matrix\n",
        "from tqdm import tqdm\n",
        "import pickle\n",
        "import numpy as np\n",
        "import pandas as pd\n",
        "from sklearn.metrics import roc_auc_score\n",
        "from sklearn.metrics import precision_score, recall_score\n",
        "from sklearn.model_selection import train_test_split"
      ],
      "metadata": {
        "id": "jwt7N-foYNJq"
      },
      "execution_count": 47,
      "outputs": []
    },
    {
      "cell_type": "code",
      "source": [
        "from google.colab import drive\n",
        "drive.mount('/content/drive')"
      ],
      "metadata": {
        "colab": {
          "base_uri": "https://localhost:8080/"
        },
        "id": "4rlu3jfAYREr",
        "outputId": "c248493f-c447-47b3-8de0-263e0a33904d"
      },
      "execution_count": 48,
      "outputs": [
        {
          "output_type": "stream",
          "name": "stdout",
          "text": [
            "Drive already mounted at /content/drive; to attempt to forcibly remount, call drive.mount(\"/content/drive\", force_remount=True).\n"
          ]
        }
      ]
    },
    {
      "cell_type": "code",
      "source": [
        "FACTORS = 50\n",
        "REGULARIZATION = 0.01"
      ],
      "metadata": {
        "id": "aWxCClJeaRhH"
      },
      "execution_count": 49,
      "outputs": []
    },
    {
      "cell_type": "code",
      "source": [
        "data_path = \"/content/drive/MyDrive/proj_hse/vk_rs\""
      ],
      "metadata": {
        "id": "KA0EQXk5YSG_"
      },
      "execution_count": 50,
      "outputs": []
    },
    {
      "cell_type": "code",
      "source": [
        "TRAIN = f\"{data_path}/train.csv\"\n",
        "train_df = pd.read_csv(TRAIN)"
      ],
      "metadata": {
        "id": "aDXHCfliYYwz"
      },
      "execution_count": 51,
      "outputs": []
    },
    {
      "cell_type": "code",
      "source": [
        "train_df = train_df.groupby(\"msno\").sample(frac=0.1, random_state=42)"
      ],
      "metadata": {
        "id": "AYSdkqfSYZON"
      },
      "execution_count": 52,
      "outputs": []
    },
    {
      "cell_type": "code",
      "source": [
        "le_msno = LabelEncoder()\n",
        "le_song_id = LabelEncoder()\n",
        "\n",
        "le_msno.fit(train_df[\"msno\"])\n",
        "le_song_id.fit(train_df[\"song_id\"])\n",
        "\n",
        "train = pd.DataFrame({\"msno\": le_msno.transform(train_df[\"msno\"].values), \"song_id\": le_song_id.transform(train_df[\"song_id\"].values), \"target\": train_df[\"target\"]})"
      ],
      "metadata": {
        "id": "lsL0WwLgYjgd"
      },
      "execution_count": 53,
      "outputs": []
    },
    {
      "cell_type": "code",
      "source": [
        "class LightweightClient:\n",
        "    def __init__(self, client_id: int, user_vector: np.ndarray):\n",
        "        \"\"\"\n",
        "        Args:\n",
        "            client_id: уникальный ID клиента\n",
        "            user_vector: вектор факторов только этого пользователя (shape: [factors])\n",
        "        \"\"\"\n",
        "        self.id = client_id\n",
        "        self.user_vector = user_vector.copy()  # Только свои факторы\n",
        "        self._interactions = None  # CSR матрица будет инициализирована позже\n",
        "\n",
        "    def init_interactions(self, item_ids: np.ndarray, targets: np.ndarray, n_items: int):\n",
        "        \"\"\"Инициализирует CSR матрицу взаимодействий один раз\"\"\"\n",
        "        self._interactions = csr_matrix(\n",
        "            (targets, (np.zeros_like(item_ids), item_ids)),\n",
        "            shape=(1, n_items)\n",
        "        )\n",
        "\n",
        "    def local_update(self, global_item_factors: np.ndarray, epsilon: float = None) -> np.ndarray:\n",
        "        \"\"\"Возвращает только обновленный вектор пользователя\"\"\"\n",
        "        temp_model = AlternatingLeastSquares(factors=self.user_vector.shape[0],\n",
        "                                      regularization=REGULARIZATION,\n",
        "                                      use_gpu=False)\n",
        "        temp_model.item_factors = global_item_factors\n",
        "        temp_model.user_factors = np.expand_dims(self.user_vector, axis=0)\n",
        "\n",
        "        temp_model.partial_fit_users([0], self._interactions)\n",
        "        updated_vector = temp_model.user_factors[0].copy()\n",
        "\n",
        "        if epsilon is not None:\n",
        "            noise = np.random.uniform(low=-epsilon, high=epsilon, size=updated_vector.shape)\n",
        "            updated_vector += noise\n",
        "\n",
        "        return updated_vector"
      ],
      "metadata": {
        "id": "T_PV2_yOYoTR"
      },
      "execution_count": 95,
      "outputs": []
    },
    {
      "cell_type": "markdown",
      "source": [
        "# Метрики качества модели, обученной на полных данных"
      ],
      "metadata": {
        "id": "oVy_V-2BaF57"
      }
    },
    {
      "cell_type": "code",
      "source": [
        "full_data_model = AlternatingLeastSquares(factors=FACTORS,\n",
        "                                      regularization=REGULARIZATION,\n",
        "                                      use_gpu=False)\n",
        "\n",
        "user_item = csr_matrix(\n",
        "            (train['target'],\n",
        "            (train['msno'], train['song_id']))\n",
        "        )\n",
        "\n",
        "full_data_model.fit(user_item)\n",
        "\n",
        "train_data, test_data = train_test_split(train, test_size=0.2, random_state=42, shuffle=True)\n",
        "\n",
        "test_users = test_data[\"msno\"]\n",
        "test_items = test_data[\"song_id\"]\n",
        "\n",
        "user_factors = full_data_model.user_factors[test_users]\n",
        "song_factors = full_data_model.item_factors[test_items]\n",
        "predicted_scores = np.sum(user_factors * song_factors, axis=1)\n",
        "\n",
        "auc = roc_auc_score(test_data[\"target\"], predicted_scores)\n",
        "precision = precision_score(test_data['target'], predicted_scores>0.6)\n",
        "recall = recall_score(test_data['target'], predicted_scores>0.6)\n",
        "print(\"AUC: \", auc)\n",
        "print(\"precision: \", precision)\n",
        "print(\"recall: \", recall)"
      ],
      "metadata": {
        "colab": {
          "base_uri": "https://localhost:8080/",
          "height": 101,
          "referenced_widgets": [
            "89a94120d0964482995cedccea30d48a",
            "f2e8a8a2ed324040a7f309cdc0d3c1f6",
            "bf69adc3fdb4459cb9d7a4b356ccccec",
            "059c5ace7c714dc5bcfe35db29657ae5",
            "40b2a7bc17454a1da15a85b4b9c94cac",
            "b1ac96854ef0451b9e011454fbae5157",
            "d2051e979973434ab7e3df549a6c44bc",
            "09edbfed93774a5790b633a469637b7d",
            "e704c31f7a8e40598065c65fd5eec703",
            "72908e9a9c7b412093fc1fa4d6f2bb52",
            "c1cf30bea3384683816bc23df2328275"
          ]
        },
        "id": "eIIqS0KyaFIW",
        "outputId": "30e011d6-828d-4950-eb7e-7f5335809ecd"
      },
      "execution_count": 54,
      "outputs": [
        {
          "output_type": "display_data",
          "data": {
            "text/plain": [
              "  0%|          | 0/15 [00:00<?, ?it/s]"
            ],
            "application/vnd.jupyter.widget-view+json": {
              "version_major": 2,
              "version_minor": 0,
              "model_id": "89a94120d0964482995cedccea30d48a"
            }
          },
          "metadata": {}
        },
        {
          "output_type": "stream",
          "name": "stdout",
          "text": [
            "AUC:  0.8009284326995029\n",
            "precision:  0.9800583657587548\n",
            "recall:  0.08138454703340199\n"
          ]
        }
      ]
    },
    {
      "cell_type": "code",
      "source": [
        "private_data = train.groupby(\"msno\").sample(frac=0.3, random_state=42)\n",
        "global_data = train.drop(private_data.index).sort_values(by=\"msno\")"
      ],
      "metadata": {
        "id": "K0f2vImHYkKG"
      },
      "execution_count": 55,
      "outputs": []
    },
    {
      "cell_type": "markdown",
      "source": [
        "# Дообучение без добавления шума"
      ],
      "metadata": {
        "id": "w0Hdfbztp2BL"
      }
    },
    {
      "cell_type": "code",
      "source": [
        "global_model = AlternatingLeastSquares(factors=FACTORS,\n",
        "                                      regularization=REGULARIZATION,\n",
        "                                      use_gpu=False)\n",
        "\n",
        "user_item = csr_matrix(\n",
        "            (global_data['target'],\n",
        "            (global_data['msno'], global_data['song_id']))\n",
        "        )\n",
        "\n",
        "global_model.fit(user_item)"
      ],
      "metadata": {
        "colab": {
          "base_uri": "https://localhost:8080/",
          "height": 49,
          "referenced_widgets": [
            "13e47dcdca8347078e12685815226ce0",
            "f711ff5d33f04ab8ac9f4bb02c4bd5e0",
            "2d8a8d6447104fd5a12c59bc1b37e03d",
            "266ae1821a6f43a1a64d92a943fda6ef",
            "ecd8a2f3a4f349ffa04bd6adb5fde9d0",
            "05f02328f6414f4cbd3ec04876bb7a01",
            "bfd25138d9274ccbbaad61f50afe21f5",
            "ff44c6d326c94549bd16d70317603991",
            "3508b90b617348edb744de76032bafd2",
            "41f6c53aa6b0428c8bf3983907f0b90c",
            "7c8a4af1e95441d2a1c149926eaa1e20"
          ]
        },
        "id": "ikP-AmxmYpvM",
        "outputId": "567165d2-6288-4b45-8f2c-7fa4e29a6e79"
      },
      "execution_count": 57,
      "outputs": [
        {
          "output_type": "display_data",
          "data": {
            "text/plain": [
              "  0%|          | 0/15 [00:00<?, ?it/s]"
            ],
            "application/vnd.jupyter.widget-view+json": {
              "version_major": 2,
              "version_minor": 0,
              "model_id": "13e47dcdca8347078e12685815226ce0"
            }
          },
          "metadata": {}
        }
      ]
    },
    {
      "cell_type": "code",
      "source": [
        "clients = []\n",
        "for cid in tqdm(private_data[\"msno\"].unique()):\n",
        "    user_vec = global_model.user_factors[cid].copy()\n",
        "    client = LightweightClient(cid, user_vec)\n",
        "\n",
        "    user_data = private_data[private_data[\"msno\"] == cid]\n",
        "    client.init_interactions(\n",
        "        item_ids=user_data[\"song_id\"].values,\n",
        "        targets=user_data[\"target\"].values,\n",
        "        n_items=global_model.item_factors.shape[0]\n",
        "    )\n",
        "    clients.append(client)"
      ],
      "metadata": {
        "colab": {
          "base_uri": "https://localhost:8080/"
        },
        "id": "XoG_2pCbY_0V",
        "outputId": "fe39e6ee-10a1-41b0-9098-0801d16704d8"
      },
      "execution_count": 58,
      "outputs": [
        {
          "output_type": "stream",
          "name": "stderr",
          "text": [
            "100%|██████████| 25371/25371 [00:21<00:00, 1171.63it/s]\n"
          ]
        }
      ]
    },
    {
      "cell_type": "code",
      "source": [
        "updated_vectors = []\n",
        "\n",
        "for client in tqdm(clients[:int(len(clients)*0.3)]):\n",
        "    new_vector = client.local_update(global_model.item_factors)\n",
        "    updated_vectors.append((client.id, new_vector))\n",
        "\n",
        "for cid, vec in updated_vectors:\n",
        "    global_model.user_factors[cid] = vec"
      ],
      "metadata": {
        "colab": {
          "base_uri": "https://localhost:8080/"
        },
        "id": "chJ7YZOuZMJ-",
        "outputId": "dff8a5d1-a60d-410a-fe1a-55bd2ea8c6e0"
      },
      "execution_count": 59,
      "outputs": [
        {
          "output_type": "stream",
          "name": "stderr",
          "text": [
            "100%|██████████| 7611/7611 [08:11<00:00, 15.50it/s]\n"
          ]
        }
      ]
    },
    {
      "cell_type": "code",
      "source": [
        "train_data, test_data = train_test_split(global_data, test_size=0.3, random_state=42, shuffle=True)\n",
        "\n",
        "test_users = test_data[\"msno\"]\n",
        "test_items = test_data[\"song_id\"]\n",
        "\n",
        "user_factors = global_model.user_factors[test_users]\n",
        "song_factors = global_model.item_factors[test_items]\n",
        "predicted_scores = np.sum(user_factors * song_factors, axis=1)\n",
        "\n",
        "auc = roc_auc_score(test_data[\"target\"], predicted_scores)\n",
        "precision = precision_score(test_data['target'], predicted_scores>0.6)\n",
        "recall = recall_score(test_data['target'], predicted_scores>0.6)\n",
        "print(\"AUC: \", auc)\n",
        "print(\"precision: \", precision)\n",
        "print(\"recall: \", recall)"
      ],
      "metadata": {
        "colab": {
          "base_uri": "https://localhost:8080/"
        },
        "id": "MTlfgAlRbM4N",
        "outputId": "b50baf87-32ed-4820-afec-f773bd725314"
      },
      "execution_count": 60,
      "outputs": [
        {
          "output_type": "stream",
          "name": "stdout",
          "text": [
            "AUC:  0.7546737056105045\n",
            "precision:  0.9812558575445174\n",
            "recall:  0.053805437072819776\n"
          ]
        }
      ]
    },
    {
      "cell_type": "markdown",
      "source": [
        "# Дообучение с добавлением шума"
      ],
      "metadata": {
        "id": "MGr0yiq6p5rW"
      }
    },
    {
      "cell_type": "code",
      "source": [
        "global_model = AlternatingLeastSquares(factors=FACTORS,\n",
        "                                      regularization=REGULARIZATION,\n",
        "                                      use_gpu=False)\n",
        "\n",
        "user_item = csr_matrix(\n",
        "            (global_data['target'],\n",
        "            (global_data['msno'], global_data['song_id']))\n",
        "        )\n",
        "\n",
        "global_model.fit(user_item)"
      ],
      "metadata": {
        "colab": {
          "base_uri": "https://localhost:8080/",
          "height": 49,
          "referenced_widgets": [
            "d1bdf64978cd4c5780bc1945619499d2",
            "a6ca487d125840ca8f8c84f81b7139b7",
            "3eadf0f345ee4349b641fc2293b7d8a9",
            "189b6e415d814750b28be002f3e608a9",
            "b5cdbe7e20c94788b2cae63caea1c7ee",
            "486dd82c58184645bea715f53c708c34",
            "e6ac3c3e45134eddba5729481806a80a",
            "d59ed75762884aeb8e8dd095c77af21f",
            "5bc27d3e14354904a64d125ebc30b157",
            "01ba28e396084ce68b09e47f1a158e0a",
            "df26d9c9695548ec9806352ca7780485"
          ]
        },
        "id": "w6wSGiQurWWt",
        "outputId": "f3e87e02-d7b6-4625-f78b-d7af95f6f86b"
      },
      "execution_count": 96,
      "outputs": [
        {
          "output_type": "display_data",
          "data": {
            "text/plain": [
              "  0%|          | 0/15 [00:00<?, ?it/s]"
            ],
            "application/vnd.jupyter.widget-view+json": {
              "version_major": 2,
              "version_minor": 0,
              "model_id": "d1bdf64978cd4c5780bc1945619499d2"
            }
          },
          "metadata": {}
        }
      ]
    },
    {
      "cell_type": "code",
      "source": [
        "clients = []\n",
        "for cid in tqdm(private_data[\"msno\"].unique()):\n",
        "    user_vec = global_model.user_factors[cid].copy()\n",
        "    client = LightweightClient(cid, user_vec)\n",
        "\n",
        "    user_data = private_data[private_data[\"msno\"] == cid]\n",
        "    client.init_interactions(\n",
        "        item_ids=user_data[\"song_id\"].values,\n",
        "        targets=user_data[\"target\"].values,\n",
        "        n_items=global_model.item_factors.shape[0]\n",
        "    )\n",
        "    clients.append(client)"
      ],
      "metadata": {
        "colab": {
          "base_uri": "https://localhost:8080/"
        },
        "id": "zTLCmfTNxDYO",
        "outputId": "4d754e6e-4f13-4180-84bc-ce1cae0f5f4a"
      },
      "execution_count": 97,
      "outputs": [
        {
          "output_type": "stream",
          "name": "stderr",
          "text": [
            "100%|██████████| 25371/25371 [00:20<00:00, 1221.78it/s]\n"
          ]
        }
      ]
    },
    {
      "cell_type": "code",
      "source": [
        "updated_vectors = []\n",
        "\n",
        "for client in tqdm(clients[:int(len(clients)*0.3)]):\n",
        "    new_vector = client.local_update(global_model.item_factors, epsilon=5*1e-1)\n",
        "    updated_vectors.append((client.id, new_vector))\n",
        "\n",
        "for cid, vec in updated_vectors:\n",
        "    global_model.user_factors[cid] = vec"
      ],
      "metadata": {
        "colab": {
          "base_uri": "https://localhost:8080/"
        },
        "id": "gpzTh3BStcfw",
        "outputId": "1682cc0f-3d4b-43b3-ab6d-2a3204e723e8"
      },
      "execution_count": 98,
      "outputs": [
        {
          "output_type": "stream",
          "name": "stderr",
          "text": [
            "100%|██████████| 7611/7611 [07:41<00:00, 16.50it/s]\n"
          ]
        }
      ]
    },
    {
      "cell_type": "code",
      "source": [
        "train_data, test_data = train_test_split(global_data, test_size=0.3, random_state=42, shuffle=True)\n",
        "\n",
        "test_users = test_data[\"msno\"]\n",
        "test_items = test_data[\"song_id\"]\n",
        "\n",
        "user_factors = global_model.user_factors[test_users]\n",
        "song_factors = global_model.item_factors[test_items]\n",
        "predicted_scores = np.sum(user_factors * song_factors, axis=1)\n",
        "\n",
        "auc = roc_auc_score(test_data[\"target\"], predicted_scores)\n",
        "precision = precision_score(test_data['target'], predicted_scores>0.6)\n",
        "recall = recall_score(test_data['target'], predicted_scores>0.6)\n",
        "print(\"AUC: \", auc)\n",
        "print(\"precision: \", precision)\n",
        "print(\"recall: \", recall)"
      ],
      "metadata": {
        "colab": {
          "base_uri": "https://localhost:8080/"
        },
        "id": "vPUWmbLrrY3q",
        "outputId": "03a21cd5-abc9-4232-ce53-cacd713264fb"
      },
      "execution_count": 99,
      "outputs": [
        {
          "output_type": "stream",
          "name": "stdout",
          "text": [
            "AUC:  0.6999579969191932\n",
            "precision:  0.8753121098626716\n",
            "recall:  0.0720617709029241\n"
          ]
        }
      ]
    }
  ]
}