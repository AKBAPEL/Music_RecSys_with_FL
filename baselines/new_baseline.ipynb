{
 "cells": [
  {
   "cell_type": "code",
   "execution_count": 109,
   "metadata": {},
   "outputs": [],
   "source": [
    "import pandas as pd\n",
    "import numpy as np\n",
    "import json\n",
    "import os\n",
    "from pathlib import Path\n",
    "import matplotlib.pyplot as plt\n",
    "import seaborn as sns\n",
    "from sklearn.metrics import roc_auc_score\n",
    "from sklearn.model_selection import train_test_split\n",
    "from sklearn.preprocessing import LabelEncoder\n",
    "from sklearn.linear_model import LogisticRegression\n",
    "from sklearn.metrics import precision_score, recall_score\n",
    "from sklearn.metrics import accuracy_score"
   ]
  },
  {
   "cell_type": "markdown",
   "metadata": {},
   "source": [
    "# Подсасываем датасеты"
   ]
  },
  {
   "cell_type": "code",
   "execution_count": 2,
   "metadata": {},
   "outputs": [],
   "source": [
    "train_df = pd.read_csv(\"train.csv\")\n",
    "members_df = pd.read_csv(\"preprocessed_members.csv\")\n",
    "songs_df = pd.read_csv(\"songs.csv\")\n",
    "song_extra_df = pd.read_csv(\"song_extra_info.csv\")\n",
    "\n",
    "data = pd.merge(train_df, songs_df, on=\"song_id\", how=\"left\")\n",
    "data = pd.merge(data, members_df, on=\"msno\", how=\"left\")\n",
    "data = pd.merge(data, song_extra_df, on=\"song_id\", how=\"left\")"
   ]
  },
  {
   "cell_type": "code",
   "execution_count": 3,
   "metadata": {},
   "outputs": [
    {
     "data": {
      "text/plain": [
       "Index(['msno', 'song_id', 'source_system_tab', 'source_screen_name',\n",
       "       'source_type', 'target', 'song_length', 'genre_ids', 'artist_name',\n",
       "       'composer', 'lyricist', 'language', 'Unnamed: 0', 'bd',\n",
       "       'registration_init_time', 'expiration_date', 'registration_year',\n",
       "       'registration_month', 'registration_day', 'expiration_year',\n",
       "       'expiration_month', 'expiration_day', 'nogender_noage',\n",
       "       'membership_duration', 'is_long_term', 'registered_via_3',\n",
       "       'registered_via_4', 'registered_via_7', 'registered_via_9',\n",
       "       'registered_via_13', 'registered_via_16', 'gender_3', 'gender_female',\n",
       "       'gender_male', 'city_1', 'city_3', 'city_4', 'city_5', 'city_6',\n",
       "       'city_7', 'city_8', 'city_9', 'city_10', 'city_11', 'city_12',\n",
       "       'city_13', 'city_14', 'city_15', 'city_16', 'city_17', 'city_18',\n",
       "       'city_19', 'city_20', 'city_21', 'city_22', 'name', 'isrc'],\n",
       "      dtype='object')"
      ]
     },
     "execution_count": 3,
     "metadata": {},
     "output_type": "execute_result"
    }
   ],
   "source": [
    "data.columns"
   ]
  },
  {
   "cell_type": "markdown",
   "metadata": {},
   "source": [
    "# Popularity-based рекомендации"
   ]
  },
  {
   "cell_type": "code",
   "execution_count": 28,
   "metadata": {},
   "outputs": [],
   "source": [
    "train, test = train_test_split(train_df, test_size=0.2)\n",
    "\n",
    "# средний target\n",
    "song_popularity = train.groupby(\"song_id\")[\"target\"].mean().reset_index()\n",
    "song_popularity.columns = [\"song_id\", \"song_pop\"]"
   ]
  },
  {
   "cell_type": "code",
   "execution_count": 29,
   "metadata": {},
   "outputs": [
    {
     "data": {
      "text/html": [
       "<div>\n",
       "<style scoped>\n",
       "    .dataframe tbody tr th:only-of-type {\n",
       "        vertical-align: middle;\n",
       "    }\n",
       "\n",
       "    .dataframe tbody tr th {\n",
       "        vertical-align: top;\n",
       "    }\n",
       "\n",
       "    .dataframe thead th {\n",
       "        text-align: right;\n",
       "    }\n",
       "</style>\n",
       "<table border=\"1\" class=\"dataframe\">\n",
       "  <thead>\n",
       "    <tr style=\"text-align: right;\">\n",
       "      <th></th>\n",
       "      <th>song_id</th>\n",
       "      <th>song_pop</th>\n",
       "    </tr>\n",
       "  </thead>\n",
       "  <tbody>\n",
       "    <tr>\n",
       "      <th>0</th>\n",
       "      <td>++/ACCkEN/+VtgrJxEqeRgRmV4y8pcarDJ9T/yRAi1E=</td>\n",
       "      <td>0.0</td>\n",
       "    </tr>\n",
       "    <tr>\n",
       "      <th>1</th>\n",
       "      <td>++/lJNswCU+za2pYB0cWIbGL5UzWIKtfweX20+GImZA=</td>\n",
       "      <td>0.0</td>\n",
       "    </tr>\n",
       "    <tr>\n",
       "      <th>2</th>\n",
       "      <td>++4Ihbdp0juQ9ldp9DysOL1WTLHIiawg7cnBTn55I/k=</td>\n",
       "      <td>0.0</td>\n",
       "    </tr>\n",
       "    <tr>\n",
       "      <th>3</th>\n",
       "      <td>++6SwJ+aXGV4LLqJmgEogoeEC0DxEdyus0MzD3iuveA=</td>\n",
       "      <td>0.0</td>\n",
       "    </tr>\n",
       "    <tr>\n",
       "      <th>4</th>\n",
       "      <td>++732ZgaVBo177j83D3Iht3ZeHUctfXg/y47RKvmc3k=</td>\n",
       "      <td>0.0</td>\n",
       "    </tr>\n",
       "  </tbody>\n",
       "</table>\n",
       "</div>"
      ],
      "text/plain": [
       "                                        song_id  song_pop\n",
       "0  ++/ACCkEN/+VtgrJxEqeRgRmV4y8pcarDJ9T/yRAi1E=       0.0\n",
       "1  ++/lJNswCU+za2pYB0cWIbGL5UzWIKtfweX20+GImZA=       0.0\n",
       "2  ++4Ihbdp0juQ9ldp9DysOL1WTLHIiawg7cnBTn55I/k=       0.0\n",
       "3  ++6SwJ+aXGV4LLqJmgEogoeEC0DxEdyus0MzD3iuveA=       0.0\n",
       "4  ++732ZgaVBo177j83D3Iht3ZeHUctfXg/y47RKvmc3k=       0.0"
      ]
     },
     "execution_count": 29,
     "metadata": {},
     "output_type": "execute_result"
    }
   ],
   "source": [
    "song_popularity.head()"
   ]
  },
  {
   "cell_type": "code",
   "execution_count": 15,
   "metadata": {},
   "outputs": [],
   "source": [
    "test_with_pop = pd.merge(test, song_popularity, on='song_id', how='left')\n",
    "test_with_pop['song_pop'] = test_with_pop['song_pop'].fillna(train_df['target'].mean())"
   ]
  },
  {
   "cell_type": "code",
   "execution_count": 21,
   "metadata": {},
   "outputs": [
    {
     "data": {
      "text/html": [
       "<div>\n",
       "<style scoped>\n",
       "    .dataframe tbody tr th:only-of-type {\n",
       "        vertical-align: middle;\n",
       "    }\n",
       "\n",
       "    .dataframe tbody tr th {\n",
       "        vertical-align: top;\n",
       "    }\n",
       "\n",
       "    .dataframe thead th {\n",
       "        text-align: right;\n",
       "    }\n",
       "</style>\n",
       "<table border=\"1\" class=\"dataframe\">\n",
       "  <thead>\n",
       "    <tr style=\"text-align: right;\">\n",
       "      <th></th>\n",
       "      <th>target</th>\n",
       "      <th>song_pop</th>\n",
       "    </tr>\n",
       "  </thead>\n",
       "  <tbody>\n",
       "    <tr>\n",
       "      <th>0</th>\n",
       "      <td>1</td>\n",
       "      <td>0.575060</td>\n",
       "    </tr>\n",
       "    <tr>\n",
       "      <th>1</th>\n",
       "      <td>0</td>\n",
       "      <td>0.445087</td>\n",
       "    </tr>\n",
       "    <tr>\n",
       "      <th>2</th>\n",
       "      <td>1</td>\n",
       "      <td>0.505942</td>\n",
       "    </tr>\n",
       "    <tr>\n",
       "      <th>3</th>\n",
       "      <td>0</td>\n",
       "      <td>0.546758</td>\n",
       "    </tr>\n",
       "    <tr>\n",
       "      <th>4</th>\n",
       "      <td>0</td>\n",
       "      <td>0.609756</td>\n",
       "    </tr>\n",
       "  </tbody>\n",
       "</table>\n",
       "</div>"
      ],
      "text/plain": [
       "   target  song_pop\n",
       "0       1  0.575060\n",
       "1       0  0.445087\n",
       "2       1  0.505942\n",
       "3       0  0.546758\n",
       "4       0  0.609756"
      ]
     },
     "execution_count": 21,
     "metadata": {},
     "output_type": "execute_result"
    }
   ],
   "source": [
    "test_with_pop[['target', 'song_pop']].head()"
   ]
  },
  {
   "cell_type": "code",
   "execution_count": 24,
   "metadata": {},
   "outputs": [
    {
     "name": "stdout",
     "output_type": "stream",
     "text": [
      "AUC: 0.6151\n",
      "precision:  0.6292748223280205\n",
      "recall:  0.3065923500500898\n"
     ]
    }
   ],
   "source": [
    "# Оценка бейзлайна Popularity-based рекомендации\n",
    "roc_score = roc_auc_score(test_with_pop['target'], test_with_pop['song_pop'])\n",
    "print(f'AUC: {roc_score:.4f}')\n",
    "print(\"precision: \", precision_score(test_with_pop['target'], test_with_pop['song_pop']>0.6))\n",
    "print(\"recall: \", recall_score(test_with_pop['target'], test_with_pop['song_pop']>0.6))"
   ]
  },
  {
   "cell_type": "markdown",
   "metadata": {},
   "source": [
    "# Popularity-based топ 10 для каждого пользователя"
   ]
  },
  {
   "cell_type": "code",
   "execution_count": 34,
   "metadata": {},
   "outputs": [],
   "source": [
    "from sklearn.preprocessing import LabelEncoder"
   ]
  },
  {
   "cell_type": "code",
   "execution_count": 36,
   "metadata": {},
   "outputs": [],
   "source": [
    "le_msno = LabelEncoder()\n",
    "le_song_id = LabelEncoder()\n",
    "temp_df = train_df.copy()\n",
    "temp_df['msno'] = le_msno.fit_transform(temp_df['msno'])\n",
    "temp_df['song_id'] = le_song_id.fit_transform(temp_df['song_id'])\n",
    "\n",
    "train, test = train_test_split(temp_df, test_size=0.2)"
   ]
  },
  {
   "cell_type": "code",
   "execution_count": 47,
   "metadata": {},
   "outputs": [],
   "source": [
    "song_popularity = train.groupby(\"song_id\")['target'].mean().reset_index()\n",
    "song_popularity.columns = [\"song_id\", \"song_pop\"]\n",
    "top_ten = song_popularity.sort_values(by='song_pop',ascending=False)['song_id'][:10].reset_index().drop('index', axis=1)"
   ]
  },
  {
   "cell_type": "code",
   "execution_count": 39,
   "metadata": {},
   "outputs": [
    {
     "data": {
      "text/html": [
       "<div>\n",
       "<style scoped>\n",
       "    .dataframe tbody tr th:only-of-type {\n",
       "        vertical-align: middle;\n",
       "    }\n",
       "\n",
       "    .dataframe tbody tr th {\n",
       "        vertical-align: top;\n",
       "    }\n",
       "\n",
       "    .dataframe thead th {\n",
       "        text-align: right;\n",
       "    }\n",
       "</style>\n",
       "<table border=\"1\" class=\"dataframe\">\n",
       "  <thead>\n",
       "    <tr style=\"text-align: right;\">\n",
       "      <th></th>\n",
       "      <th>msno</th>\n",
       "      <th>song_id</th>\n",
       "      <th>source_system_tab</th>\n",
       "      <th>source_screen_name</th>\n",
       "      <th>source_type</th>\n",
       "      <th>target</th>\n",
       "    </tr>\n",
       "  </thead>\n",
       "  <tbody>\n",
       "    <tr>\n",
       "      <th>5324257</th>\n",
       "      <td>13708</td>\n",
       "      <td>249555</td>\n",
       "      <td>discover</td>\n",
       "      <td>Online playlist more</td>\n",
       "      <td>online-playlist</td>\n",
       "      <td>0</td>\n",
       "    </tr>\n",
       "    <tr>\n",
       "      <th>1491696</th>\n",
       "      <td>7959</td>\n",
       "      <td>62578</td>\n",
       "      <td>explore</td>\n",
       "      <td>Explore</td>\n",
       "      <td>topic-article-playlist</td>\n",
       "      <td>1</td>\n",
       "    </tr>\n",
       "    <tr>\n",
       "      <th>918842</th>\n",
       "      <td>27139</td>\n",
       "      <td>232083</td>\n",
       "      <td>my library</td>\n",
       "      <td>Local playlist more</td>\n",
       "      <td>local-playlist</td>\n",
       "      <td>1</td>\n",
       "    </tr>\n",
       "    <tr>\n",
       "      <th>6807472</th>\n",
       "      <td>2476</td>\n",
       "      <td>87671</td>\n",
       "      <td>my library</td>\n",
       "      <td>Local playlist more</td>\n",
       "      <td>local-library</td>\n",
       "      <td>0</td>\n",
       "    </tr>\n",
       "    <tr>\n",
       "      <th>110860</th>\n",
       "      <td>16620</td>\n",
       "      <td>330181</td>\n",
       "      <td>my library</td>\n",
       "      <td>Local playlist more</td>\n",
       "      <td>local-library</td>\n",
       "      <td>1</td>\n",
       "    </tr>\n",
       "  </tbody>\n",
       "</table>\n",
       "</div>"
      ],
      "text/plain": [
       "          msno  song_id source_system_tab    source_screen_name  \\\n",
       "5324257  13708   249555          discover  Online playlist more   \n",
       "1491696   7959    62578           explore               Explore   \n",
       "918842   27139   232083        my library   Local playlist more   \n",
       "6807472   2476    87671        my library   Local playlist more   \n",
       "110860   16620   330181        my library   Local playlist more   \n",
       "\n",
       "                    source_type  target  \n",
       "5324257         online-playlist       0  \n",
       "1491696  topic-article-playlist       1  \n",
       "918842           local-playlist       1  \n",
       "6807472           local-library       0  \n",
       "110860            local-library       1  "
      ]
     },
     "execution_count": 39,
     "metadata": {},
     "output_type": "execute_result"
    }
   ],
   "source": [
    "test.head()"
   ]
  },
  {
   "cell_type": "code",
   "execution_count": 158,
   "metadata": {},
   "outputs": [],
   "source": [
    "test_users = test['msno'].unique()\n",
    "listened_tracks = [test[(test['msno']==user) & (test['target'] == 1)]['song_id'].unique() for user in test_users]\n",
    "\n",
    "test_user_his_songs = pd.concat([pd.DataFrame(test_users, columns=['msno']), pd.DataFrame().assign(tracks=listened_tracks)], axis=1)\n",
    "\n",
    "top_max = song_popularity.sort_values(by='song_pop',ascending=False)['song_id'][:max(test_user_his_songs['tracks'].apply(len))].reset_index().drop('index', axis=1)\n",
    "test_user_his_songs = test_user_his_songs.assign(top_max = [*top_max.T.values]*len(test_user_his_songs))"
   ]
  },
  {
   "cell_type": "code",
   "execution_count": 159,
   "metadata": {},
   "outputs": [
    {
     "data": {
      "text/html": [
       "<div>\n",
       "<style scoped>\n",
       "    .dataframe tbody tr th:only-of-type {\n",
       "        vertical-align: middle;\n",
       "    }\n",
       "\n",
       "    .dataframe tbody tr th {\n",
       "        vertical-align: top;\n",
       "    }\n",
       "\n",
       "    .dataframe thead th {\n",
       "        text-align: right;\n",
       "    }\n",
       "</style>\n",
       "<table border=\"1\" class=\"dataframe\">\n",
       "  <thead>\n",
       "    <tr style=\"text-align: right;\">\n",
       "      <th></th>\n",
       "      <th>msno</th>\n",
       "      <th>tracks</th>\n",
       "      <th>top_max</th>\n",
       "    </tr>\n",
       "  </thead>\n",
       "  <tbody>\n",
       "    <tr>\n",
       "      <th>0</th>\n",
       "      <td>13708</td>\n",
       "      <td>[155979, 181045, 52412, 151490, 236660, 176256...</td>\n",
       "      <td>[218734, 61170, 233101, 305450, 143658, 61165,...</td>\n",
       "    </tr>\n",
       "    <tr>\n",
       "      <th>1</th>\n",
       "      <td>7959</td>\n",
       "      <td>[62578, 308848, 304420, 86658, 58602, 51546, 2...</td>\n",
       "      <td>[218734, 61170, 233101, 305450, 143658, 61165,...</td>\n",
       "    </tr>\n",
       "    <tr>\n",
       "      <th>2</th>\n",
       "      <td>27139</td>\n",
       "      <td>[232083, 145492, 201657, 86658, 315526, 185080...</td>\n",
       "      <td>[218734, 61170, 233101, 305450, 143658, 61165,...</td>\n",
       "    </tr>\n",
       "    <tr>\n",
       "      <th>3</th>\n",
       "      <td>2476</td>\n",
       "      <td>[295291, 194376, 183649, 4641, 131070, 293570,...</td>\n",
       "      <td>[218734, 61170, 233101, 305450, 143658, 61165,...</td>\n",
       "    </tr>\n",
       "    <tr>\n",
       "      <th>4</th>\n",
       "      <td>16620</td>\n",
       "      <td>[330181, 81636, 140667, 199854, 312782, 72904,...</td>\n",
       "      <td>[218734, 61170, 233101, 305450, 143658, 61165,...</td>\n",
       "    </tr>\n",
       "  </tbody>\n",
       "</table>\n",
       "</div>"
      ],
      "text/plain": [
       "    msno                                             tracks  \\\n",
       "0  13708  [155979, 181045, 52412, 151490, 236660, 176256...   \n",
       "1   7959  [62578, 308848, 304420, 86658, 58602, 51546, 2...   \n",
       "2  27139  [232083, 145492, 201657, 86658, 315526, 185080...   \n",
       "3   2476  [295291, 194376, 183649, 4641, 131070, 293570,...   \n",
       "4  16620  [330181, 81636, 140667, 199854, 312782, 72904,...   \n",
       "\n",
       "                                             top_max  \n",
       "0  [218734, 61170, 233101, 305450, 143658, 61165,...  \n",
       "1  [218734, 61170, 233101, 305450, 143658, 61165,...  \n",
       "2  [218734, 61170, 233101, 305450, 143658, 61165,...  \n",
       "3  [218734, 61170, 233101, 305450, 143658, 61165,...  \n",
       "4  [218734, 61170, 233101, 305450, 143658, 61165,...  "
      ]
     },
     "execution_count": 159,
     "metadata": {},
     "output_type": "execute_result"
    }
   ],
   "source": [
    "test_user_his_songs.head()"
   ]
  },
  {
   "cell_type": "code",
   "execution_count": 196,
   "metadata": {},
   "outputs": [],
   "source": [
    "def compute_metrics(row, k=100):\n",
    "\n",
    "    recommended = set(row['top_max'])\n",
    "    relevant = set(row['tracks'])\n",
    "    \n",
    "    intersection_size = len(recommended & relevant )# Вычисляем пересечение\n",
    "    \n",
    "    precision = intersection_size / k  \n",
    "    recall = intersection_size / len(relevant) if len(relevant) > 0 else np.nan\n",
    "    hit = 1 if intersection_size > 0 else 0\n",
    "    \n",
    "    return pd.Series({'precision': precision, 'recall': recall, 'hit': hit})\n",
    "\n",
    "metrics_df = test_user_his_songs.apply(compute_metrics, axis=1)"
   ]
  },
  {
   "cell_type": "code",
   "execution_count": 197,
   "metadata": {},
   "outputs": [
    {
     "data": {
      "text/plain": [
       "precision    0.000023\n",
       "recall       0.000066\n",
       "hit          0.002255\n",
       "dtype: float64"
      ]
     },
     "execution_count": 197,
     "metadata": {},
     "output_type": "execute_result"
    }
   ],
   "source": [
    "metrics_df.dropna().mean()"
   ]
  }
 ],
 "metadata": {
  "kernelspec": {
   "display_name": "Python 3",
   "language": "python",
   "name": "python3"
  },
  "language_info": {
   "codemirror_mode": {
    "name": "ipython",
    "version": 3
   },
   "file_extension": ".py",
   "mimetype": "text/x-python",
   "name": "python",
   "nbconvert_exporter": "python",
   "pygments_lexer": "ipython3",
   "version": "3.12.0"
  },
  "orig_nbformat": 4
 },
 "nbformat": 4,
 "nbformat_minor": 2
}
