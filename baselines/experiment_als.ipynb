{
 "cells": [
  {
   "cell_type": "code",
   "execution_count": 84,
   "metadata": {},
   "outputs": [],
   "source": [
    "import pandas as pd\n",
    "import numpy as np\n",
    "import json\n",
    "import os\n",
    "from sklearn.metrics.pairwise import cosine_similarity\n",
    "from sklearn.metrics import roc_auc_score\n",
    "from sklearn.metrics import precision_score, recall_score"
   ]
  },
  {
   "cell_type": "markdown",
   "metadata": {},
   "source": [
    "# Подсасываем датасет"
   ]
  },
  {
   "cell_type": "code",
   "execution_count": 2,
   "metadata": {},
   "outputs": [],
   "source": [
    "train = pd.read_csv(\"prep_train_data.csv\",index_col=[0])"
   ]
  },
  {
   "cell_type": "code",
   "execution_count": 4,
   "metadata": {},
   "outputs": [
    {
     "data": {
      "text/plain": [
       "(3314966, 20)"
      ]
     },
     "execution_count": 4,
     "metadata": {},
     "output_type": "execute_result"
    }
   ],
   "source": [
    "train.shape"
   ]
  },
  {
   "cell_type": "code",
   "execution_count": 18,
   "metadata": {},
   "outputs": [
    {
     "name": "stdout",
     "output_type": "stream",
     "text": [
      "<class 'pandas.core.frame.DataFrame'>\n",
      "Index: 3314966 entries, 0 to 3314965\n",
      "Data columns (total 20 columns):\n",
      " #   Column                  Dtype \n",
      "---  ------                  ----- \n",
      " 0   msno                    int64 \n",
      " 1   song_id                 int64 \n",
      " 2   source_system_tab       int64 \n",
      " 3   source_screen_name      int64 \n",
      " 4   source_type             int64 \n",
      " 5   target                  int64 \n",
      " 6   city                    int64 \n",
      " 7   bd                      int64 \n",
      " 8   gender                  object\n",
      " 9   registered_via          int64 \n",
      " 10  registration_init_time  object\n",
      " 11  expiration_date         object\n",
      " 12  registration_year       int64 \n",
      " 13  registration_month      int64 \n",
      " 14  registration_day        int64 \n",
      " 15  expiration_year         int64 \n",
      " 16  expiration_month        int64 \n",
      " 17  expiration_day          int64 \n",
      " 18  nogender_noage          bool  \n",
      " 19  membership_duration     int64 \n",
      "dtypes: bool(1), int64(16), object(3)\n",
      "memory usage: 509.0+ MB\n"
     ]
    }
   ],
   "source": [
    "train.info()"
   ]
  },
  {
   "cell_type": "code",
   "execution_count": 5,
   "metadata": {},
   "outputs": [
    {
     "data": {
      "text/html": [
       "<div>\n",
       "<style scoped>\n",
       "    .dataframe tbody tr th:only-of-type {\n",
       "        vertical-align: middle;\n",
       "    }\n",
       "\n",
       "    .dataframe tbody tr th {\n",
       "        vertical-align: top;\n",
       "    }\n",
       "\n",
       "    .dataframe thead th {\n",
       "        text-align: right;\n",
       "    }\n",
       "</style>\n",
       "<table border=\"1\" class=\"dataframe\">\n",
       "  <thead>\n",
       "    <tr style=\"text-align: right;\">\n",
       "      <th></th>\n",
       "      <th>msno</th>\n",
       "      <th>song_id</th>\n",
       "      <th>source_system_tab</th>\n",
       "      <th>source_screen_name</th>\n",
       "      <th>source_type</th>\n",
       "      <th>target</th>\n",
       "      <th>city</th>\n",
       "      <th>bd</th>\n",
       "      <th>gender</th>\n",
       "      <th>registered_via</th>\n",
       "      <th>registration_init_time</th>\n",
       "      <th>expiration_date</th>\n",
       "      <th>registration_year</th>\n",
       "      <th>registration_month</th>\n",
       "      <th>registration_day</th>\n",
       "      <th>expiration_year</th>\n",
       "      <th>expiration_month</th>\n",
       "      <th>expiration_day</th>\n",
       "      <th>nogender_noage</th>\n",
       "      <th>membership_duration</th>\n",
       "    </tr>\n",
       "  </thead>\n",
       "  <tbody>\n",
       "    <tr>\n",
       "      <th>0</th>\n",
       "      <td>7640</td>\n",
       "      <td>60186</td>\n",
       "      <td>1</td>\n",
       "      <td>7</td>\n",
       "      <td>7</td>\n",
       "      <td>1</td>\n",
       "      <td>1</td>\n",
       "      <td>27</td>\n",
       "      <td>3</td>\n",
       "      <td>7</td>\n",
       "      <td>2012-01-02</td>\n",
       "      <td>2017-10-05</td>\n",
       "      <td>2012</td>\n",
       "      <td>1</td>\n",
       "      <td>2</td>\n",
       "      <td>2017</td>\n",
       "      <td>10</td>\n",
       "      <td>5</td>\n",
       "      <td>True</td>\n",
       "      <td>2103</td>\n",
       "    </tr>\n",
       "    <tr>\n",
       "      <th>1</th>\n",
       "      <td>16139</td>\n",
       "      <td>179889</td>\n",
       "      <td>4</td>\n",
       "      <td>8</td>\n",
       "      <td>5</td>\n",
       "      <td>1</td>\n",
       "      <td>13</td>\n",
       "      <td>24</td>\n",
       "      <td>female</td>\n",
       "      <td>9</td>\n",
       "      <td>2011-05-25</td>\n",
       "      <td>2017-09-11</td>\n",
       "      <td>2011</td>\n",
       "      <td>5</td>\n",
       "      <td>25</td>\n",
       "      <td>2017</td>\n",
       "      <td>9</td>\n",
       "      <td>11</td>\n",
       "      <td>False</td>\n",
       "      <td>2301</td>\n",
       "    </tr>\n",
       "    <tr>\n",
       "      <th>2</th>\n",
       "      <td>16139</td>\n",
       "      <td>97284</td>\n",
       "      <td>4</td>\n",
       "      <td>8</td>\n",
       "      <td>5</td>\n",
       "      <td>1</td>\n",
       "      <td>13</td>\n",
       "      <td>24</td>\n",
       "      <td>female</td>\n",
       "      <td>9</td>\n",
       "      <td>2011-05-25</td>\n",
       "      <td>2017-09-11</td>\n",
       "      <td>2011</td>\n",
       "      <td>5</td>\n",
       "      <td>25</td>\n",
       "      <td>2017</td>\n",
       "      <td>9</td>\n",
       "      <td>11</td>\n",
       "      <td>False</td>\n",
       "      <td>2301</td>\n",
       "    </tr>\n",
       "    <tr>\n",
       "      <th>3</th>\n",
       "      <td>16139</td>\n",
       "      <td>19141</td>\n",
       "      <td>4</td>\n",
       "      <td>8</td>\n",
       "      <td>5</td>\n",
       "      <td>1</td>\n",
       "      <td>13</td>\n",
       "      <td>24</td>\n",
       "      <td>female</td>\n",
       "      <td>9</td>\n",
       "      <td>2011-05-25</td>\n",
       "      <td>2017-09-11</td>\n",
       "      <td>2011</td>\n",
       "      <td>5</td>\n",
       "      <td>25</td>\n",
       "      <td>2017</td>\n",
       "      <td>9</td>\n",
       "      <td>11</td>\n",
       "      <td>False</td>\n",
       "      <td>2301</td>\n",
       "    </tr>\n",
       "    <tr>\n",
       "      <th>4</th>\n",
       "      <td>7640</td>\n",
       "      <td>26909</td>\n",
       "      <td>1</td>\n",
       "      <td>7</td>\n",
       "      <td>7</td>\n",
       "      <td>1</td>\n",
       "      <td>1</td>\n",
       "      <td>27</td>\n",
       "      <td>3</td>\n",
       "      <td>7</td>\n",
       "      <td>2012-01-02</td>\n",
       "      <td>2017-10-05</td>\n",
       "      <td>2012</td>\n",
       "      <td>1</td>\n",
       "      <td>2</td>\n",
       "      <td>2017</td>\n",
       "      <td>10</td>\n",
       "      <td>5</td>\n",
       "      <td>True</td>\n",
       "      <td>2103</td>\n",
       "    </tr>\n",
       "  </tbody>\n",
       "</table>\n",
       "</div>"
      ],
      "text/plain": [
       "    msno  song_id  source_system_tab  source_screen_name  source_type  target  \\\n",
       "0   7640    60186                  1                   7            7       1   \n",
       "1  16139   179889                  4                   8            5       1   \n",
       "2  16139    97284                  4                   8            5       1   \n",
       "3  16139    19141                  4                   8            5       1   \n",
       "4   7640    26909                  1                   7            7       1   \n",
       "\n",
       "   city  bd  gender  registered_via registration_init_time expiration_date  \\\n",
       "0     1  27       3               7             2012-01-02      2017-10-05   \n",
       "1    13  24  female               9             2011-05-25      2017-09-11   \n",
       "2    13  24  female               9             2011-05-25      2017-09-11   \n",
       "3    13  24  female               9             2011-05-25      2017-09-11   \n",
       "4     1  27       3               7             2012-01-02      2017-10-05   \n",
       "\n",
       "   registration_year  registration_month  registration_day  expiration_year  \\\n",
       "0               2012                   1                 2             2017   \n",
       "1               2011                   5                25             2017   \n",
       "2               2011                   5                25             2017   \n",
       "3               2011                   5                25             2017   \n",
       "4               2012                   1                 2             2017   \n",
       "\n",
       "   expiration_month  expiration_day  nogender_noage  membership_duration  \n",
       "0                10               5            True                 2103  \n",
       "1                 9              11           False                 2301  \n",
       "2                 9              11           False                 2301  \n",
       "3                 9              11           False                 2301  \n",
       "4                10               5            True                 2103  "
      ]
     },
     "execution_count": 5,
     "metadata": {},
     "output_type": "execute_result"
    }
   ],
   "source": [
    "train.head()"
   ]
  },
  {
   "cell_type": "markdown",
   "metadata": {},
   "source": [
    "# Пробуем ALS"
   ]
  },
  {
   "cell_type": "code",
   "execution_count": 59,
   "metadata": {},
   "outputs": [],
   "source": [
    "import implicit\n",
    "from scipy.sparse import csr_matrix\n",
    "from sklearn.model_selection import train_test_split"
   ]
  },
  {
   "cell_type": "markdown",
   "metadata": {},
   "source": [
    "## Создание sparse матрицы"
   ]
  },
  {
   "cell_type": "code",
   "execution_count": 66,
   "metadata": {},
   "outputs": [],
   "source": [
    "user_ids = train[\"msno\"].values\n",
    "song_ids = train[\"song_id\"].values\n",
    "target = train[\"target\"].values\n",
    "\n",
    "matrix = csr_matrix((target, (user_ids, song_ids)),\n",
    "                    shape=(len(train['msno'].unique()), len(train['song_id'].unique())))\n",
    "\n",
    "# Разделение данных на train/test\n",
    "train_data, test_data = train_test_split(train, test_size=0.2, random_state=42, shuffle=True)"
   ]
  },
  {
   "cell_type": "markdown",
   "metadata": {},
   "source": [
    "## Обучение ALS"
   ]
  },
  {
   "cell_type": "code",
   "execution_count": 67,
   "metadata": {},
   "outputs": [
    {
     "data": {
      "application/vnd.jupyter.widget-view+json": {
       "model_id": "54b0c59c241349398c0a3310bf28f832",
       "version_major": 2,
       "version_minor": 0
      },
      "text/plain": [
       "  0%|          | 0/15 [00:00<?, ?it/s]"
      ]
     },
     "metadata": {},
     "output_type": "display_data"
    }
   ],
   "source": [
    "model = implicit.als.AlternatingLeastSquares(\n",
    "    factors=64,       # Количество латентных факторов\n",
    "    iterations=15,    # Количество итераций\n",
    "    regularization=0.1, \n",
    "    random_state=42\n",
    ")\n",
    "\n",
    "model.fit(matrix)"
   ]
  },
  {
   "cell_type": "markdown",
   "metadata": {},
   "source": [
    "### Предскажем треки для рандомного пользователя"
   ]
  },
  {
   "cell_type": "code",
   "execution_count": 81,
   "metadata": {},
   "outputs": [
    {
     "name": "stdout",
     "output_type": "stream",
     "text": [
      "Рекомендации для 28530: [113266 234916 107549  37054 215222 199823 180395  28393 167597  71477]\n"
     ]
    }
   ],
   "source": [
    "def recommend(user_id, n=10):\n",
    "    recommendations = model.recommend(user_id, matrix[user_id], N=n)\n",
    "    song_ids = recommendations[0]\n",
    "    return song_ids\n",
    "\n",
    "user_example = train.sample(1)['msno'].values[0]\n",
    "print(f\"Рекомендации для {user_example}: {recommend(user_example)}\")"
   ]
  },
  {
   "cell_type": "markdown",
   "metadata": {},
   "source": [
    "### Посчитаем метрики"
   ]
  },
  {
   "cell_type": "code",
   "execution_count": 88,
   "metadata": {},
   "outputs": [
    {
     "name": "stdout",
     "output_type": "stream",
     "text": [
      "AUC:  0.7454892185230693\n",
      "precision:  0.8439884687129049\n",
      "recall:  0.20541238995367975\n"
     ]
    }
   ],
   "source": [
    "test_users = test_data[\"msno\"]\n",
    "test_songs = test_data[\"song_id\"]\n",
    "\n",
    "user_factors = model.user_factors[test_users]\n",
    "song_factors = model.item_factors[test_songs]\n",
    "predicted_scores = np.sum(user_factors * song_factors, axis=1)\n",
    "\n",
    "auc = roc_auc_score(test_data[\"target\"], predicted_scores)\n",
    "precision = precision_score(test_data['target'], predicted_scores>0.6)\n",
    "recall = recall_score(test_data['target'], predicted_scores>0.6)\n",
    "print(\"AUC: \", auc)\n",
    "print(\"precision: \", precision)\n",
    "print(\"recall: \", recall)"
   ]
  }
 ],
 "metadata": {
  "kernelspec": {
   "display_name": "Python 3",
   "language": "python",
   "name": "python3"
  },
  "language_info": {
   "codemirror_mode": {
    "name": "ipython",
    "version": 3
   },
   "file_extension": ".py",
   "mimetype": "text/x-python",
   "name": "python",
   "nbconvert_exporter": "python",
   "pygments_lexer": "ipython3",
   "version": "3.12.0"
  },
  "orig_nbformat": 4
 },
 "nbformat": 4,
 "nbformat_minor": 2
}
