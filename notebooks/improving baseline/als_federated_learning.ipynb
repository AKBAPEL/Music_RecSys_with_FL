{
  "cells": [
    {
      "cell_type": "code",
      "execution_count": null,
      "metadata": {
        "id": "Zet468Wz7olw"
      },
      "outputs": [],
      "source": [
        "from implicit.als import AlternatingLeastSquares\n",
        "from sklearn.preprocessing import LabelEncoder\n",
        "from scipy.sparse import csr_matrix\n",
        "from tqdm import tqdm\n",
        "import pickle\n",
        "import numpy as np\n",
        "import pandas as pd\n",
        "from sklearn.metrics import roc_auc_score\n",
        "from sklearn.metrics import precision_score, recall_score\n",
        "from sklearn.model_selection import train_test_split"
      ]
    },
    {
      "cell_type": "code",
      "execution_count": null,
      "metadata": {
        "id": "3d0SHiXo8lF0"
      },
      "outputs": [],
      "source": [
        "data_path = \"...\""
      ]
    },
    {
      "cell_type": "code",
      "execution_count": 6,
      "metadata": {
        "id": "cI22qAgL8nYf"
      },
      "outputs": [],
      "source": [
        "MEMBERS = f\"{data_path}/members.csv\"\n",
        "SONG_FEAT = f\"{data_path}/song_extra_info.csv\"\n",
        "SONGS = f\"{data_path}/songs.csv\"\n",
        "TRAIN = f\"{data_path}/train.csv\"\n",
        "MERGE = f\"{data_path}/train_data.csv\""
      ]
    },
    {
      "cell_type": "code",
      "execution_count": 7,
      "metadata": {
        "id": "Pjnq2leC8oxn"
      },
      "outputs": [],
      "source": [
        "members_df = pd.read_csv(MEMBERS)\n",
        "song_feat_df = pd.read_csv(SONG_FEAT)\n",
        "songs_df = pd.read_csv(SONGS)\n",
        "train_df = pd.read_csv(TRAIN)"
      ]
    },
    {
      "cell_type": "code",
      "execution_count": 8,
      "metadata": {
        "id": "CGhK2VqxlyeR"
      },
      "outputs": [],
      "source": [
        "train_df = train_df.groupby(\"msno\").sample(frac=0.1, random_state=42)"
      ]
    },
    {
      "cell_type": "code",
      "execution_count": 9,
      "metadata": {
        "id": "sUqkkJYK8r8W"
      },
      "outputs": [],
      "source": [
        "le_msno = LabelEncoder()\n",
        "le_song_id = LabelEncoder()\n",
        "\n",
        "le_msno.fit(train_df[\"msno\"])\n",
        "le_song_id.fit(train_df[\"song_id\"])\n",
        "\n",
        "train = pd.DataFrame({\"msno\": le_msno.transform(train_df[\"msno\"].values), \"song_id\": le_song_id.transform(train_df[\"song_id\"].values), \"target\": train_df[\"target\"]})"
      ]
    },
    {
      "cell_type": "code",
      "execution_count": 10,
      "metadata": {
        "id": "lRrUOtEx_mqF"
      },
      "outputs": [],
      "source": [
        "private_data = train.groupby(\"msno\").sample(frac=0.3, random_state=42)\n",
        "global_data = train.drop(private_data.index).sort_values(by=\"msno\")"
      ]
    },
    {
      "cell_type": "code",
      "execution_count": 11,
      "metadata": {
        "colab": {
          "base_uri": "https://localhost:8080/"
        },
        "id": "Y7-pJfm_FoCt",
        "outputId": "68bb0509-dc8e-43e3-a961-5d9c05c13d9b"
      },
      "outputs": [
        {
          "data": {
            "text/plain": [
              "((221417, 3), (515803, 3))"
            ]
          },
          "execution_count": 11,
          "metadata": {},
          "output_type": "execute_result"
        }
      ],
      "source": [
        "private_data.shape, global_data.shape"
      ]
    },
    {
      "cell_type": "code",
      "execution_count": 12,
      "metadata": {
        "id": "BEp_xZqE792Y"
      },
      "outputs": [],
      "source": [
        "# --- Конфигурация федерации ---\n",
        "NUM_CLIENTS = 5\n",
        "LOCAL_EPOCHS = 3\n",
        "AGGREGATION_ROUNDS = 10\n",
        "FACTORS = 50\n",
        "REGULARIZATION = 0.01\n",
        "TOP_N_RECOMMENDATIONS = 20  # число рекомендаций для генерации новых данных"
      ]
    },
    {
      "cell_type": "code",
      "execution_count": 14,
      "metadata": {
        "colab": {
          "base_uri": "https://localhost:8080/",
          "height": 104,
          "referenced_widgets": [
            "7aaa79c6f00b40a3bd6917587e3eccfd",
            "984f874c47244c1aa789fec50acfc2a8",
            "25984dade79d497385ab7d1626b56fad",
            "0e3d7b50329c4a498cf2a3946bcf1862",
            "b752536e53e04390af4d5bebf4924309",
            "c650b41bfbf048f3b0d10bed13ab6f49",
            "0e6fa311ea9e4ea18e5129d8624357b0",
            "a6ba22de052a4cbc9bdbf15d0d8a487b",
            "e8cacf9b5f6d4231a79617ae39e71b54",
            "06a31d322ab942b8921eeb1115fed94a",
            "080e0f717b0e4f289a89d9b83b73a0ed"
          ]
        },
        "id": "gF1_M6YPNGAN",
        "outputId": "13a9bfdb-c022-4770-9c49-965d4e1fb011"
      },
      "outputs": [
        {
          "name": "stderr",
          "output_type": "stream",
          "text": [
            "/usr/local/lib/python3.11/dist-packages/implicit/cpu/als.py:95: RuntimeWarning: OpenBLAS is configured to use 2 threads. It is highly recommended to disable its internal threadpool by setting the environment variable 'OPENBLAS_NUM_THREADS=1' or by calling 'threadpoolctl.threadpool_limits(1, \"blas\")'. Having OpenBLAS use a threadpool can lead to severe performance issues here.\n",
            "  check_blas_config()\n"
          ]
        },
        {
          "data": {
            "application/vnd.jupyter.widget-view+json": {
              "model_id": "7aaa79c6f00b40a3bd6917587e3eccfd",
              "version_major": 2,
              "version_minor": 0
            },
            "text/plain": [
              "  0%|          | 0/15 [00:00<?, ?it/s]"
            ]
          },
          "metadata": {},
          "output_type": "display_data"
        }
      ],
      "source": [
        "# 1. Инициализация глобальной модели\n",
        "global_model = AlternatingLeastSquares(factors=FACTORS,\n",
        "                                      regularization=REGULARIZATION,\n",
        "                                      use_gpu=False)\n",
        "\n",
        "user_item = csr_matrix(\n",
        "            (global_data['target'],\n",
        "            (global_data['msno'], global_data['song_id']))\n",
        "        )\n",
        "\n",
        "global_model.fit(user_item)"
      ]
    },
    {
      "cell_type": "code",
      "execution_count": 17,
      "metadata": {
        "colab": {
          "base_uri": "https://localhost:8080/"
        },
        "id": "RKRsbb5gq14q",
        "outputId": "7ba0dcdc-e409-4857-c5da-9260b121d00c"
      },
      "outputs": [
        {
          "name": "stdout",
          "output_type": "stream",
          "text": [
            "AUC:  0.7497253242534933\n",
            "precision:  0.9813635291342298\n",
            "recall:  0.056006570001480946\n"
          ]
        }
      ],
      "source": [
        "train_data, test_data = train_test_split(train, test_size=0.2, random_state=42, shuffle=True)\n",
        "\n",
        "test_users = test_data[\"msno\"]\n",
        "test_items = test_data[\"song_id\"]\n",
        "\n",
        "user_factors = global_model.user_factors[test_users]\n",
        "song_factors = global_model.item_factors[test_items]\n",
        "predicted_scores = np.sum(user_factors * song_factors, axis=1)\n",
        "\n",
        "auc = roc_auc_score(test_data[\"target\"], predicted_scores)\n",
        "precision = precision_score(test_data['target'], predicted_scores>0.6)\n",
        "recall = recall_score(test_data['target'], predicted_scores>0.6)\n",
        "print(\"AUC: \", auc)\n",
        "print(\"precision: \", precision)\n",
        "print(\"recall: \", recall)"
      ]
    },
    {
      "cell_type": "code",
      "execution_count": 18,
      "metadata": {
        "id": "f7SZggnD7dBE"
      },
      "outputs": [],
      "source": [
        "# Предполагаем, что модель уже обучена и загружена\n",
        "# with open('als_federated_model.pkl', 'rb') as f:\n",
        "#     global_model = pickle.load(f)\n",
        "\n",
        "# 2. Клиентская часть: локальное обучение с учётом новых рекомендаций\n",
        "class Client:\n",
        "    def __init__(self, client_id, base_data):\n",
        "        self.id = client_id\n",
        "        # Базовые реальные взаимодействия (user_id, item_id, weight)\n",
        "        self.base_data = base_data\n",
        "        # Локальная модель ALS\n",
        "        self.model = AlternatingLeastSquares(factors=FACTORS,\n",
        "                                            regularization=REGULARIZATION,\n",
        "                                            use_gpu=False, iterations=5)\n",
        "\n",
        "    def local_update(self, global_user_factors, global_item_factors):\n",
        "        self.model.user_factors = global_user_factors.copy()\n",
        "        self.model.item_factors = global_item_factors.copy()\n",
        "\n",
        "        # Создаем CSR матрицу для пользователя\n",
        "        user_items = csr_matrix(\n",
        "            (self.base_data['target'],\n",
        "             (np.zeros(len(self.base_data)),  # Все строки относятся к текущему пользователю\n",
        "              self.base_data['song_id'])),\n",
        "            shape=(1, global_item_factors.shape[0])\n",
        "        )\n",
        "\n",
        "        self.model.partial_fit_users([self.id], user_items)\n",
        "\n",
        "        return self.model.user_factors, self.model.item_factors"
      ]
    },
    {
      "cell_type": "code",
      "execution_count": null,
      "metadata": {
        "colab": {
          "base_uri": "https://localhost:8080/"
        },
        "id": "-XALKYkQG--h",
        "outputId": "08f016d1-3a9a-4340-e5e4-6cca63370153"
      },
      "outputs": [
        {
          "name": "stderr",
          "output_type": "stream",
          "text": [
            "100%|██████████| 25371/25371 [00:14<00:00, 1702.34it/s]\n"
          ]
        }
      ],
      "source": [
        "clients = []\n",
        "for cid in tqdm(private_data[\"msno\"].unique()):\n",
        "    base_data = (private_data[private_data[\"msno\"] == cid]).copy()\n",
        "    clients.append(Client(cid, base_data))\n"
      ]
    },
    {
      "cell_type": "code",
      "execution_count": 20,
      "metadata": {
        "colab": {
          "base_uri": "https://localhost:8080/"
        },
        "id": "XEReFfNwTbNq",
        "outputId": "26dd64c4-eb9c-4f3c-8798-15063ab3f9fd"
      },
      "outputs": [
        {
          "name": "stderr",
          "output_type": "stream",
          "text": [
            " 10%|█         | 1/10 [00:00<00:08,  1.10it/s]"
          ]
        },
        {
          "name": "stdout",
          "output_type": "stream",
          "text": [
            "Round 1/10 aggregated with synthetic data\n"
          ]
        },
        {
          "name": "stderr",
          "output_type": "stream",
          "text": [
            "\r 20%|██        | 2/10 [00:01<00:04,  1.85it/s]"
          ]
        },
        {
          "name": "stdout",
          "output_type": "stream",
          "text": [
            "Round 2/10 aggregated with synthetic data\n"
          ]
        },
        {
          "name": "stderr",
          "output_type": "stream",
          "text": [
            "\r 30%|███       | 3/10 [00:01<00:03,  2.27it/s]"
          ]
        },
        {
          "name": "stdout",
          "output_type": "stream",
          "text": [
            "Round 3/10 aggregated with synthetic data\n"
          ]
        },
        {
          "name": "stderr",
          "output_type": "stream",
          "text": [
            "\r 40%|████      | 4/10 [00:01<00:02,  2.72it/s]"
          ]
        },
        {
          "name": "stdout",
          "output_type": "stream",
          "text": [
            "Round 4/10 aggregated with synthetic data\n"
          ]
        },
        {
          "name": "stderr",
          "output_type": "stream",
          "text": [
            "\r 50%|█████     | 5/10 [00:02<00:01,  3.05it/s]"
          ]
        },
        {
          "name": "stdout",
          "output_type": "stream",
          "text": [
            "Round 5/10 aggregated with synthetic data\n"
          ]
        },
        {
          "name": "stderr",
          "output_type": "stream",
          "text": [
            "\r 60%|██████    | 6/10 [00:02<00:01,  3.38it/s]"
          ]
        },
        {
          "name": "stdout",
          "output_type": "stream",
          "text": [
            "Round 6/10 aggregated with synthetic data\n"
          ]
        },
        {
          "name": "stderr",
          "output_type": "stream",
          "text": [
            "\r 70%|███████   | 7/10 [00:02<00:00,  3.62it/s]"
          ]
        },
        {
          "name": "stdout",
          "output_type": "stream",
          "text": [
            "Round 7/10 aggregated with synthetic data\n"
          ]
        },
        {
          "name": "stderr",
          "output_type": "stream",
          "text": [
            "\r 80%|████████  | 8/10 [00:02<00:00,  3.73it/s]"
          ]
        },
        {
          "name": "stdout",
          "output_type": "stream",
          "text": [
            "Round 8/10 aggregated with synthetic data\n"
          ]
        },
        {
          "name": "stderr",
          "output_type": "stream",
          "text": [
            "\r 90%|█████████ | 9/10 [00:02<00:00,  3.86it/s]"
          ]
        },
        {
          "name": "stdout",
          "output_type": "stream",
          "text": [
            "Round 9/10 aggregated with synthetic data\n"
          ]
        },
        {
          "name": "stderr",
          "output_type": "stream",
          "text": [
            "100%|██████████| 10/10 [00:03<00:00,  3.09it/s]"
          ]
        },
        {
          "name": "stdout",
          "output_type": "stream",
          "text": [
            "Round 10/10 aggregated with synthetic data\n"
          ]
        },
        {
          "name": "stderr",
          "output_type": "stream",
          "text": [
            "\n"
          ]
        }
      ],
      "source": [
        "def aggregate(models_user, models_item):\n",
        "    avg_user = np.mean(models_user, axis=0)\n",
        "    avg_item = np.mean(models_item, axis=0)\n",
        "    return avg_user, avg_item\n",
        "\n",
        "for round_idx in tqdm(range(AGGREGATION_ROUNDS)):\n",
        "    collected_user = []\n",
        "    collected_item = []\n",
        "    for client in clients[:10]:\n",
        "        u_f, i_f = client.local_update(global_model.user_factors, global_model.item_factors)\n",
        "        collected_user.append(u_f)\n",
        "        collected_item.append(i_f)\n",
        "    # Аггрегация\n",
        "    mean_user, mean_item = aggregate(collected_user, collected_item)\n",
        "    global_model.user_factors = mean_user\n",
        "    global_model.item_factors = mean_item\n",
        "    print(f\"Round {round_idx+1}/{AGGREGATION_ROUNDS} aggregated with synthetic data\")"
      ]
    },
    {
      "cell_type": "code",
      "execution_count": 25,
      "metadata": {
        "colab": {
          "base_uri": "https://localhost:8080/"
        },
        "id": "FICC81MVVOAF",
        "outputId": "63de0498-e717-4f45-e350-ef1033a6f0e6"
      },
      "outputs": [
        {
          "name": "stdout",
          "output_type": "stream",
          "text": [
            "AUC:  0.7497168343396904\n",
            "precision:  0.9813547321217843\n",
            "recall:  0.05597964376590331\n"
          ]
        }
      ],
      "source": [
        "test_users = test_data[\"msno\"]\n",
        "test_items = test_data[\"song_id\"]\n",
        "\n",
        "user_factors = global_model.user_factors[test_users]\n",
        "song_factors = global_model.item_factors[test_items]\n",
        "predicted_scores = np.sum(user_factors * song_factors, axis=1)\n",
        "\n",
        "auc = roc_auc_score(test_data[\"target\"], predicted_scores)\n",
        "precision = precision_score(test_data['target'], predicted_scores>0.6)\n",
        "recall = recall_score(test_data['target'], predicted_scores>0.6)\n",
        "print(\"AUC: \", auc)\n",
        "print(\"precision: \", precision)\n",
        "print(\"recall: \", recall)"
      ]
    },
    {
      "cell_type": "code",
      "execution_count": 26,
      "metadata": {
        "id": "mVRBJB3v1_wR"
      },
      "outputs": [],
      "source": [
        "with open('als_federated_c_model.pkl', 'wb') as f:\n",
        "    pickle.dump(global_model, f)"
      ]
    }
  ],
  "metadata": {
    "colab": {
      "provenance": []
    },
    "kernelspec": {
      "display_name": "Python 3",
      "name": "python3"
    },
    "language_info": {
      "name": "python"
    },
    "widgets": {
      "application/vnd.jupyter.widget-state+json": {
        "06a31d322ab942b8921eeb1115fed94a": {
          "model_module": "@jupyter-widgets/base",
          "model_module_version": "1.2.0",
          "model_name": "LayoutModel",
          "state": {
            "_model_module": "@jupyter-widgets/base",
            "_model_module_version": "1.2.0",
            "_model_name": "LayoutModel",
            "_view_count": null,
            "_view_module": "@jupyter-widgets/base",
            "_view_module_version": "1.2.0",
            "_view_name": "LayoutView",
            "align_content": null,
            "align_items": null,
            "align_self": null,
            "border": null,
            "bottom": null,
            "display": null,
            "flex": null,
            "flex_flow": null,
            "grid_area": null,
            "grid_auto_columns": null,
            "grid_auto_flow": null,
            "grid_auto_rows": null,
            "grid_column": null,
            "grid_gap": null,
            "grid_row": null,
            "grid_template_areas": null,
            "grid_template_columns": null,
            "grid_template_rows": null,
            "height": null,
            "justify_content": null,
            "justify_items": null,
            "left": null,
            "margin": null,
            "max_height": null,
            "max_width": null,
            "min_height": null,
            "min_width": null,
            "object_fit": null,
            "object_position": null,
            "order": null,
            "overflow": null,
            "overflow_x": null,
            "overflow_y": null,
            "padding": null,
            "right": null,
            "top": null,
            "visibility": null,
            "width": null
          }
        },
        "080e0f717b0e4f289a89d9b83b73a0ed": {
          "model_module": "@jupyter-widgets/controls",
          "model_module_version": "1.5.0",
          "model_name": "DescriptionStyleModel",
          "state": {
            "_model_module": "@jupyter-widgets/controls",
            "_model_module_version": "1.5.0",
            "_model_name": "DescriptionStyleModel",
            "_view_count": null,
            "_view_module": "@jupyter-widgets/base",
            "_view_module_version": "1.2.0",
            "_view_name": "StyleView",
            "description_width": ""
          }
        },
        "0e3d7b50329c4a498cf2a3946bcf1862": {
          "model_module": "@jupyter-widgets/controls",
          "model_module_version": "1.5.0",
          "model_name": "HTMLModel",
          "state": {
            "_dom_classes": [],
            "_model_module": "@jupyter-widgets/controls",
            "_model_module_version": "1.5.0",
            "_model_name": "HTMLModel",
            "_view_count": null,
            "_view_module": "@jupyter-widgets/controls",
            "_view_module_version": "1.5.0",
            "_view_name": "HTMLView",
            "description": "",
            "description_tooltip": null,
            "layout": "IPY_MODEL_06a31d322ab942b8921eeb1115fed94a",
            "placeholder": "​",
            "style": "IPY_MODEL_080e0f717b0e4f289a89d9b83b73a0ed",
            "value": " 15/15 [00:42&lt;00:00,  2.12s/it]"
          }
        },
        "0e6fa311ea9e4ea18e5129d8624357b0": {
          "model_module": "@jupyter-widgets/controls",
          "model_module_version": "1.5.0",
          "model_name": "DescriptionStyleModel",
          "state": {
            "_model_module": "@jupyter-widgets/controls",
            "_model_module_version": "1.5.0",
            "_model_name": "DescriptionStyleModel",
            "_view_count": null,
            "_view_module": "@jupyter-widgets/base",
            "_view_module_version": "1.2.0",
            "_view_name": "StyleView",
            "description_width": ""
          }
        },
        "25984dade79d497385ab7d1626b56fad": {
          "model_module": "@jupyter-widgets/controls",
          "model_module_version": "1.5.0",
          "model_name": "FloatProgressModel",
          "state": {
            "_dom_classes": [],
            "_model_module": "@jupyter-widgets/controls",
            "_model_module_version": "1.5.0",
            "_model_name": "FloatProgressModel",
            "_view_count": null,
            "_view_module": "@jupyter-widgets/controls",
            "_view_module_version": "1.5.0",
            "_view_name": "ProgressView",
            "bar_style": "success",
            "description": "",
            "description_tooltip": null,
            "layout": "IPY_MODEL_a6ba22de052a4cbc9bdbf15d0d8a487b",
            "max": 15,
            "min": 0,
            "orientation": "horizontal",
            "style": "IPY_MODEL_e8cacf9b5f6d4231a79617ae39e71b54",
            "value": 15
          }
        },
        "7aaa79c6f00b40a3bd6917587e3eccfd": {
          "model_module": "@jupyter-widgets/controls",
          "model_module_version": "1.5.0",
          "model_name": "HBoxModel",
          "state": {
            "_dom_classes": [],
            "_model_module": "@jupyter-widgets/controls",
            "_model_module_version": "1.5.0",
            "_model_name": "HBoxModel",
            "_view_count": null,
            "_view_module": "@jupyter-widgets/controls",
            "_view_module_version": "1.5.0",
            "_view_name": "HBoxView",
            "box_style": "",
            "children": [
              "IPY_MODEL_984f874c47244c1aa789fec50acfc2a8",
              "IPY_MODEL_25984dade79d497385ab7d1626b56fad",
              "IPY_MODEL_0e3d7b50329c4a498cf2a3946bcf1862"
            ],
            "layout": "IPY_MODEL_b752536e53e04390af4d5bebf4924309"
          }
        },
        "984f874c47244c1aa789fec50acfc2a8": {
          "model_module": "@jupyter-widgets/controls",
          "model_module_version": "1.5.0",
          "model_name": "HTMLModel",
          "state": {
            "_dom_classes": [],
            "_model_module": "@jupyter-widgets/controls",
            "_model_module_version": "1.5.0",
            "_model_name": "HTMLModel",
            "_view_count": null,
            "_view_module": "@jupyter-widgets/controls",
            "_view_module_version": "1.5.0",
            "_view_name": "HTMLView",
            "description": "",
            "description_tooltip": null,
            "layout": "IPY_MODEL_c650b41bfbf048f3b0d10bed13ab6f49",
            "placeholder": "​",
            "style": "IPY_MODEL_0e6fa311ea9e4ea18e5129d8624357b0",
            "value": "100%"
          }
        },
        "a6ba22de052a4cbc9bdbf15d0d8a487b": {
          "model_module": "@jupyter-widgets/base",
          "model_module_version": "1.2.0",
          "model_name": "LayoutModel",
          "state": {
            "_model_module": "@jupyter-widgets/base",
            "_model_module_version": "1.2.0",
            "_model_name": "LayoutModel",
            "_view_count": null,
            "_view_module": "@jupyter-widgets/base",
            "_view_module_version": "1.2.0",
            "_view_name": "LayoutView",
            "align_content": null,
            "align_items": null,
            "align_self": null,
            "border": null,
            "bottom": null,
            "display": null,
            "flex": null,
            "flex_flow": null,
            "grid_area": null,
            "grid_auto_columns": null,
            "grid_auto_flow": null,
            "grid_auto_rows": null,
            "grid_column": null,
            "grid_gap": null,
            "grid_row": null,
            "grid_template_areas": null,
            "grid_template_columns": null,
            "grid_template_rows": null,
            "height": null,
            "justify_content": null,
            "justify_items": null,
            "left": null,
            "margin": null,
            "max_height": null,
            "max_width": null,
            "min_height": null,
            "min_width": null,
            "object_fit": null,
            "object_position": null,
            "order": null,
            "overflow": null,
            "overflow_x": null,
            "overflow_y": null,
            "padding": null,
            "right": null,
            "top": null,
            "visibility": null,
            "width": null
          }
        },
        "b752536e53e04390af4d5bebf4924309": {
          "model_module": "@jupyter-widgets/base",
          "model_module_version": "1.2.0",
          "model_name": "LayoutModel",
          "state": {
            "_model_module": "@jupyter-widgets/base",
            "_model_module_version": "1.2.0",
            "_model_name": "LayoutModel",
            "_view_count": null,
            "_view_module": "@jupyter-widgets/base",
            "_view_module_version": "1.2.0",
            "_view_name": "LayoutView",
            "align_content": null,
            "align_items": null,
            "align_self": null,
            "border": null,
            "bottom": null,
            "display": null,
            "flex": null,
            "flex_flow": null,
            "grid_area": null,
            "grid_auto_columns": null,
            "grid_auto_flow": null,
            "grid_auto_rows": null,
            "grid_column": null,
            "grid_gap": null,
            "grid_row": null,
            "grid_template_areas": null,
            "grid_template_columns": null,
            "grid_template_rows": null,
            "height": null,
            "justify_content": null,
            "justify_items": null,
            "left": null,
            "margin": null,
            "max_height": null,
            "max_width": null,
            "min_height": null,
            "min_width": null,
            "object_fit": null,
            "object_position": null,
            "order": null,
            "overflow": null,
            "overflow_x": null,
            "overflow_y": null,
            "padding": null,
            "right": null,
            "top": null,
            "visibility": null,
            "width": null
          }
        },
        "c650b41bfbf048f3b0d10bed13ab6f49": {
          "model_module": "@jupyter-widgets/base",
          "model_module_version": "1.2.0",
          "model_name": "LayoutModel",
          "state": {
            "_model_module": "@jupyter-widgets/base",
            "_model_module_version": "1.2.0",
            "_model_name": "LayoutModel",
            "_view_count": null,
            "_view_module": "@jupyter-widgets/base",
            "_view_module_version": "1.2.0",
            "_view_name": "LayoutView",
            "align_content": null,
            "align_items": null,
            "align_self": null,
            "border": null,
            "bottom": null,
            "display": null,
            "flex": null,
            "flex_flow": null,
            "grid_area": null,
            "grid_auto_columns": null,
            "grid_auto_flow": null,
            "grid_auto_rows": null,
            "grid_column": null,
            "grid_gap": null,
            "grid_row": null,
            "grid_template_areas": null,
            "grid_template_columns": null,
            "grid_template_rows": null,
            "height": null,
            "justify_content": null,
            "justify_items": null,
            "left": null,
            "margin": null,
            "max_height": null,
            "max_width": null,
            "min_height": null,
            "min_width": null,
            "object_fit": null,
            "object_position": null,
            "order": null,
            "overflow": null,
            "overflow_x": null,
            "overflow_y": null,
            "padding": null,
            "right": null,
            "top": null,
            "visibility": null,
            "width": null
          }
        },
        "e8cacf9b5f6d4231a79617ae39e71b54": {
          "model_module": "@jupyter-widgets/controls",
          "model_module_version": "1.5.0",
          "model_name": "ProgressStyleModel",
          "state": {
            "_model_module": "@jupyter-widgets/controls",
            "_model_module_version": "1.5.0",
            "_model_name": "ProgressStyleModel",
            "_view_count": null,
            "_view_module": "@jupyter-widgets/base",
            "_view_module_version": "1.2.0",
            "_view_name": "StyleView",
            "bar_color": null,
            "description_width": ""
          }
        }
      }
    }
  },
  "nbformat": 4,
  "nbformat_minor": 0
}
